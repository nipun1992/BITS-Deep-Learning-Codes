{
 "cells": [
  {
   "cell_type": "markdown",
   "id": "634ce139",
   "metadata": {},
   "source": [
    "## Group No\n",
    "\n",
    "## Group Member Names:\n",
    "1. \n",
    "2.\n",
    "3.\n"
   ]
  },
  {
   "cell_type": "markdown",
   "id": "abec8684",
   "metadata": {},
   "source": [
    "# 1. Business Understanding\n",
    " \n",
    "Students are expected to identify a classification problem of your choice. You have to detail the Business Understanding part of your problem under this heading which basically addresses the following questions.\n",
    " \n",
    "   1. What is the problem that you are trying to solve?\n",
    "   2. What data do you need to answer the above problem?\n"
   ]
  },
  {
   "cell_type": "markdown",
   "id": "93d22d4a",
   "metadata": {},
   "source": [
    "--------------Type the answers below this line-------------- \n",
    "\n",
    "1. **Problem statement**: CarDekho.com is a website and mobile application which facilitates its users to buy right vehicles for them. It does this through a user-friendly website and mobile app that carry rich automotive content such as expert reviews, details of all specs and prices, comparisons as well as videos and pictures of all brands and models available in India. \n",
    "\n",
    "Create a regression model, given a new individual observation, predict the selling price for an used car model.\n",
    "\n",
    "2. The dataset, car data.csv is taken from Kaggle. It has been uploaded to canvas.\n",
    "\n",
    "https://www.kaggle.com/datasets/nehalbirla/vehicle-dataset-from-cardekho\n",
    "\n",
    "The columns in the given dataset are as follows:\n",
    "\n",
    "* name\n",
    "* year\n",
    "* selling_price\n",
    "* km_driven\n",
    "* fuel\n",
    "* seller_type\n",
    "* transmission\n",
    "* Owner"
   ]
  },
  {
   "cell_type": "markdown",
   "id": "d46d7870",
   "metadata": {},
   "source": [
    "# 2. Data Acquisition\n",
    " \n",
    "For the problem identified by you, students have to find the data source themselves from any data source.\n",
    "\n",
    "## 2.1 Download the data directly\n",
    "\n",
    "## 2.2 Code for converting the above downloaded data into a dataframe\n"
   ]
  },
  {
   "cell_type": "code",
   "execution_count": 1,
   "id": "7430c2bd",
   "metadata": {},
   "outputs": [
    {
     "data": {
      "text/plain": [
       "(301, 9)"
      ]
     },
     "execution_count": 1,
     "metadata": {},
     "output_type": "execute_result"
    }
   ],
   "source": [
    "##---------Type the code below this line------------------##\n",
    "import pandas as pd\n",
    "\n",
    "dataset = pd.read_csv(\"cardata.csv\")\n",
    "\n",
    "dataset.shape"
   ]
  },
  {
   "cell_type": "code",
   "execution_count": 2,
   "id": "3e385bb7",
   "metadata": {},
   "outputs": [
    {
     "name": "stdout",
     "output_type": "stream",
     "text": [
      "<class 'pandas.core.frame.DataFrame'>\n",
      "RangeIndex: 301 entries, 0 to 300\n",
      "Data columns (total 9 columns):\n",
      " #   Column         Non-Null Count  Dtype  \n",
      "---  ------         --------------  -----  \n",
      " 0   Car_Name       301 non-null    object \n",
      " 1   Year           301 non-null    int64  \n",
      " 2   Selling_Price  301 non-null    float64\n",
      " 3   Present_Price  301 non-null    float64\n",
      " 4   Kms_Driven     301 non-null    int64  \n",
      " 5   Fuel_Type      301 non-null    object \n",
      " 6   Seller_Type    301 non-null    object \n",
      " 7   Transmission   301 non-null    object \n",
      " 8   Owner          301 non-null    int64  \n",
      "dtypes: float64(2), int64(3), object(4)\n",
      "memory usage: 21.3+ KB\n"
     ]
    }
   ],
   "source": [
    "##---------Type the code below this line------------------##\n",
    "\n",
    "dataset.info()"
   ]
  },
  {
   "cell_type": "markdown",
   "id": "bc973ef0",
   "metadata": {},
   "source": [
    "## 2.3 Confirm the data has been correctly by displaying the first 5"
   ]
  },
  {
   "cell_type": "code",
   "execution_count": 3,
   "id": "5db05010",
   "metadata": {},
   "outputs": [
    {
     "data": {
      "text/html": [
       "<div>\n",
       "<style scoped>\n",
       "    .dataframe tbody tr th:only-of-type {\n",
       "        vertical-align: middle;\n",
       "    }\n",
       "\n",
       "    .dataframe tbody tr th {\n",
       "        vertical-align: top;\n",
       "    }\n",
       "\n",
       "    .dataframe thead th {\n",
       "        text-align: right;\n",
       "    }\n",
       "</style>\n",
       "<table border=\"1\" class=\"dataframe\">\n",
       "  <thead>\n",
       "    <tr style=\"text-align: right;\">\n",
       "      <th></th>\n",
       "      <th>Car_Name</th>\n",
       "      <th>Year</th>\n",
       "      <th>Selling_Price</th>\n",
       "      <th>Present_Price</th>\n",
       "      <th>Kms_Driven</th>\n",
       "      <th>Fuel_Type</th>\n",
       "      <th>Seller_Type</th>\n",
       "      <th>Transmission</th>\n",
       "      <th>Owner</th>\n",
       "    </tr>\n",
       "  </thead>\n",
       "  <tbody>\n",
       "    <tr>\n",
       "      <th>0</th>\n",
       "      <td>ritz</td>\n",
       "      <td>2014</td>\n",
       "      <td>3.35</td>\n",
       "      <td>5.59</td>\n",
       "      <td>27000</td>\n",
       "      <td>Petrol</td>\n",
       "      <td>Dealer</td>\n",
       "      <td>Manual</td>\n",
       "      <td>0</td>\n",
       "    </tr>\n",
       "    <tr>\n",
       "      <th>1</th>\n",
       "      <td>sx4</td>\n",
       "      <td>2013</td>\n",
       "      <td>4.75</td>\n",
       "      <td>9.54</td>\n",
       "      <td>43000</td>\n",
       "      <td>Diesel</td>\n",
       "      <td>Dealer</td>\n",
       "      <td>Manual</td>\n",
       "      <td>0</td>\n",
       "    </tr>\n",
       "    <tr>\n",
       "      <th>2</th>\n",
       "      <td>ciaz</td>\n",
       "      <td>2017</td>\n",
       "      <td>7.25</td>\n",
       "      <td>9.85</td>\n",
       "      <td>6900</td>\n",
       "      <td>Petrol</td>\n",
       "      <td>Dealer</td>\n",
       "      <td>Manual</td>\n",
       "      <td>0</td>\n",
       "    </tr>\n",
       "    <tr>\n",
       "      <th>3</th>\n",
       "      <td>wagon r</td>\n",
       "      <td>2011</td>\n",
       "      <td>2.85</td>\n",
       "      <td>4.15</td>\n",
       "      <td>5200</td>\n",
       "      <td>Petrol</td>\n",
       "      <td>Dealer</td>\n",
       "      <td>Manual</td>\n",
       "      <td>0</td>\n",
       "    </tr>\n",
       "    <tr>\n",
       "      <th>4</th>\n",
       "      <td>swift</td>\n",
       "      <td>2014</td>\n",
       "      <td>4.60</td>\n",
       "      <td>6.87</td>\n",
       "      <td>42450</td>\n",
       "      <td>Diesel</td>\n",
       "      <td>Dealer</td>\n",
       "      <td>Manual</td>\n",
       "      <td>0</td>\n",
       "    </tr>\n",
       "  </tbody>\n",
       "</table>\n",
       "</div>"
      ],
      "text/plain": [
       "  Car_Name  Year  Selling_Price  Present_Price  Kms_Driven Fuel_Type  \\\n",
       "0     ritz  2014           3.35           5.59       27000    Petrol   \n",
       "1      sx4  2013           4.75           9.54       43000    Diesel   \n",
       "2     ciaz  2017           7.25           9.85        6900    Petrol   \n",
       "3  wagon r  2011           2.85           4.15        5200    Petrol   \n",
       "4    swift  2014           4.60           6.87       42450    Diesel   \n",
       "\n",
       "  Seller_Type Transmission  Owner  \n",
       "0      Dealer       Manual      0  \n",
       "1      Dealer       Manual      0  \n",
       "2      Dealer       Manual      0  \n",
       "3      Dealer       Manual      0  \n",
       "4      Dealer       Manual      0  "
      ]
     },
     "execution_count": 3,
     "metadata": {},
     "output_type": "execute_result"
    }
   ],
   "source": [
    "##---------Type the code below this line------------------##\n",
    "dataset.head()"
   ]
  },
  {
   "cell_type": "markdown",
   "id": "16ab163f",
   "metadata": {},
   "source": [
    "# 3. Data Preparation"
   ]
  },
  {
   "cell_type": "markdown",
   "id": "f0e4e8b4",
   "metadata": {},
   "source": [
    "## 3.1 Remove null data"
   ]
  },
  {
   "cell_type": "code",
   "execution_count": 4,
   "id": "39cd8925",
   "metadata": {},
   "outputs": [
    {
     "data": {
      "text/plain": [
       "Car_Name         0\n",
       "Year             0\n",
       "Selling_Price    0\n",
       "Present_Price    0\n",
       "Kms_Driven       0\n",
       "Fuel_Type        0\n",
       "Seller_Type      0\n",
       "Transmission     0\n",
       "Owner            0\n",
       "dtype: int64"
      ]
     },
     "execution_count": 4,
     "metadata": {},
     "output_type": "execute_result"
    }
   ],
   "source": [
    "dataset.isnull().sum()"
   ]
  },
  {
   "cell_type": "code",
   "execution_count": 5,
   "id": "0fe2c126",
   "metadata": {},
   "outputs": [
    {
     "name": "stdout",
     "output_type": "stream",
     "text": [
      "Duplicates (2, 9)\n",
      "Original dataset (301, 9)\n"
     ]
    }
   ],
   "source": [
    "# check for duplicates\n",
    "\n",
    "duplicateRows = dataset[dataset.duplicated(keep = 'last')]\n",
    "print('Duplicates', duplicateRows.shape)\n",
    "print('Original dataset', dataset.shape)"
   ]
  },
  {
   "cell_type": "code",
   "execution_count": 6,
   "id": "6eb576cc",
   "metadata": {},
   "outputs": [
    {
     "name": "stdout",
     "output_type": "stream",
     "text": [
      "Modified dataset (299, 9)\n"
     ]
    }
   ],
   "source": [
    "# remove duplicates\n",
    "\n",
    "dataset = dataset.drop_duplicates()\n",
    "print('Modified dataset', dataset.shape)"
   ]
  },
  {
   "cell_type": "markdown",
   "id": "2a9438ae",
   "metadata": {},
   "source": [
    "## 3.2 Encode categorical data"
   ]
  },
  {
   "cell_type": "code",
   "execution_count": 7,
   "id": "389eb5bd",
   "metadata": {},
   "outputs": [],
   "source": [
    "from sklearn.preprocessing import LabelEncoder\n",
    "\n",
    "lb1 = LabelEncoder()\n",
    "dataset['Car_Name'] = lb1.fit_transform(dataset['Car_Name'])\n",
    "\n",
    "lb2 = LabelEncoder()\n",
    "dataset['Seller_Type'] = lb2.fit_transform(dataset['Seller_Type'])\n",
    "\n",
    "lb3 = LabelEncoder()\n",
    "dataset['Fuel_Type'] = lb3.fit_transform(dataset['Fuel_Type'])\n",
    "\n",
    "lb4 = LabelEncoder()\n",
    "dataset['Transmission'] = lb4.fit_transform(dataset['Transmission'])\n"
   ]
  },
  {
   "cell_type": "markdown",
   "id": "eb55ff70",
   "metadata": {},
   "source": [
    "## 3.3 Feature Engg on X or the sentences using CountVectorizer"
   ]
  },
  {
   "cell_type": "code",
   "execution_count": 8,
   "id": "3df265d8",
   "metadata": {},
   "outputs": [],
   "source": [
    "''' creating two additional features, \n",
    "1. **Company** - Created with the help of the Car_Name. \n",
    "Ex: Car_Name: i20 -> Company: Hyundai.\n",
    "Let's use a map of brand names to car model mapping. \n",
    "Note: this map is constructed manually\n",
    "'''\n",
    "\n",
    "company = {\n",
    "    'Maruti Suzuki': ['ritz', 'sx4', 'ciaz', 'wagon r', 'swift', 'vitara brezza', 's cross', 'alto 800', 'ertiga', 'dzire', 'alto k10', 'ignis', '800', 'baleno', 'omni', 'Suzuki Access 125'],\n",
    "    'Toyota': ['fortuner', 'innova', 'corolla altis', 'etios cross', 'etios g', 'etios liva', 'corolla', 'corolla altis', 'etios gd', 'camry', 'land cruiser'],\n",
    "    'Honda': ['amaze', 'brio', 'city', 'jazz', 'Activa 3g', 'Activa 4g', 'Honda Activa 125', 'Honda Activa 4G', 'Honda CB Hornet 160R', 'Honda CB Shine', 'Honda CB Trigger', 'Honda CB Unicorn', 'Honda CB twister', 'Honda CBR 150', 'Honda Dream Yuga ', 'Honda Karizma'],\n",
    "    'Hyundai': ['grand i10', 'i10', 'i20', 'creta', 'elantra', 'eon', 'verna', 'xcent'],\n",
    "    'Hero': ['Hero  CBZ Xtreme', 'Hero  Ignitor Disc', 'Hero Extreme', 'Hero Glamour', 'Hero Honda CBZ extreme', 'Hero Honda Passion Pro', 'Hero Hunk', 'Hero Passion Pro', 'Hero Passion X pro', 'Hero Splender Plus', 'Hero Splender iSmart', 'Hero Super Splendor'],\n",
    "    'Royal Enfield': ['Royal Enfield Bullet 350', 'Royal Enfield Classic 350', 'Royal Enfield Classic 500', 'Royal Enfield Thunder 350', 'Royal Enfield Thunder 500'],\n",
    "    'UM': ['UM Renegade Mojave'],\n",
    "    'KTM': ['KTM 390 Duke ', 'KTM RC200', 'KTM RC390'],\n",
    "    'Bajaj': ['Bajaj  ct 100', 'Bajaj Avenger 150', 'Bajaj Avenger 150 street', 'Bajaj Avenger 220', 'Bajaj Avenger 220 dtsi', 'Bajaj Avenger Street 220', 'Bajaj Discover 100', 'Bajaj Discover 125', 'Bajaj Dominar 400', 'Bajaj Pulsar  NS 200', 'Bajaj Pulsar 135 LS', 'Bajaj Pulsar 150', 'Bajaj Pulsar 220 F', 'Bajaj Pulsar NS 200', 'Bajaj Pulsar RS200'],\n",
    "    'Hyosung': ['Hyosung GT250R'],\n",
    "    'Mahindra': ['Mahindra Mojo XT300'],\n",
    "    'TVS': ['TVS Apache RTR 160', 'TVS Apache RTR 180', 'TVS Jupyter', 'TVS Sport ', 'TVS Wego'],\n",
    "    'Yahama': ['Yamaha FZ  v 2.0', 'Yamaha FZ 16', 'Yamaha FZ S ', 'Yamaha FZ S V 2.0', 'Yamaha Fazer ']\n",
    "}\n",
    "\n",
    "def find_company(vehicle):\n",
    "    found = False\n",
    "    for k in company.keys():\n",
    "        if vehicle in company[k]: \n",
    "            return k\n",
    "    if not found: return None\n",
    "\n",
    "dataset['Company'] = dataset['Car_Name'].apply(find_company)\n",
    "\n",
    "lb5 = LabelEncoder()\n",
    "dataset['Company'] = lb5.fit_transform(dataset['Company'])\n",
    "\n",
    "# 2. **Year Delta** - Represents the delta of current year and the year of manufacture\n",
    "\n",
    "from datetime import date, datetime\n",
    "\n",
    "dataset['YearDelta'] = dataset.apply(lambda x: date.today().year - x['Year'], axis=1)"
   ]
  },
  {
   "cell_type": "code",
   "execution_count": 9,
   "id": "1cb39d25",
   "metadata": {},
   "outputs": [],
   "source": [
    "from sklearn.preprocessing import MinMaxScaler\n",
    "\n",
    "std_scaler1 = MinMaxScaler()\n",
    "std_scaler2 = MinMaxScaler()\n",
    "\n",
    "dataset['Present_Price'] = std_scaler1.fit_transform(dataset['Present_Price'].values.reshape(-1, 1))\n",
    "dataset['Kms_Driven'] = std_scaler2.fit_transform(dataset['Kms_Driven'].values.reshape(-1, 1))"
   ]
  },
  {
   "cell_type": "markdown",
   "id": "dd25a388",
   "metadata": {},
   "source": [
    "## 3.4 Identify the target variables.\n"
   ]
  },
  {
   "cell_type": "code",
   "execution_count": 10,
   "id": "084f129c",
   "metadata": {},
   "outputs": [
    {
     "data": {
      "text/html": [
       "<div>\n",
       "<style scoped>\n",
       "    .dataframe tbody tr th:only-of-type {\n",
       "        vertical-align: middle;\n",
       "    }\n",
       "\n",
       "    .dataframe tbody tr th {\n",
       "        vertical-align: top;\n",
       "    }\n",
       "\n",
       "    .dataframe thead th {\n",
       "        text-align: right;\n",
       "    }\n",
       "</style>\n",
       "<table border=\"1\" class=\"dataframe\">\n",
       "  <thead>\n",
       "    <tr style=\"text-align: right;\">\n",
       "      <th></th>\n",
       "      <th>Car_Name</th>\n",
       "      <th>Year</th>\n",
       "      <th>Present_Price</th>\n",
       "      <th>Kms_Driven</th>\n",
       "      <th>Fuel_Type</th>\n",
       "      <th>Seller_Type</th>\n",
       "      <th>Transmission</th>\n",
       "      <th>Owner</th>\n",
       "      <th>Company</th>\n",
       "      <th>YearDelta</th>\n",
       "    </tr>\n",
       "  </thead>\n",
       "  <tbody>\n",
       "    <tr>\n",
       "      <th>0</th>\n",
       "      <td>90</td>\n",
       "      <td>2014</td>\n",
       "      <td>0.057109</td>\n",
       "      <td>0.053053</td>\n",
       "      <td>2</td>\n",
       "      <td>0</td>\n",
       "      <td>1</td>\n",
       "      <td>0</td>\n",
       "      <td>0</td>\n",
       "      <td>8.0</td>\n",
       "    </tr>\n",
       "    <tr>\n",
       "      <th>1</th>\n",
       "      <td>93</td>\n",
       "      <td>2013</td>\n",
       "      <td>0.099913</td>\n",
       "      <td>0.085085</td>\n",
       "      <td>1</td>\n",
       "      <td>0</td>\n",
       "      <td>1</td>\n",
       "      <td>0</td>\n",
       "      <td>0</td>\n",
       "      <td>9.0</td>\n",
       "    </tr>\n",
       "    <tr>\n",
       "      <th>2</th>\n",
       "      <td>68</td>\n",
       "      <td>2017</td>\n",
       "      <td>0.103273</td>\n",
       "      <td>0.012813</td>\n",
       "      <td>2</td>\n",
       "      <td>0</td>\n",
       "      <td>1</td>\n",
       "      <td>0</td>\n",
       "      <td>0</td>\n",
       "      <td>5.0</td>\n",
       "    </tr>\n",
       "    <tr>\n",
       "      <th>3</th>\n",
       "      <td>96</td>\n",
       "      <td>2011</td>\n",
       "      <td>0.041504</td>\n",
       "      <td>0.009409</td>\n",
       "      <td>2</td>\n",
       "      <td>0</td>\n",
       "      <td>1</td>\n",
       "      <td>0</td>\n",
       "      <td>0</td>\n",
       "      <td>11.0</td>\n",
       "    </tr>\n",
       "    <tr>\n",
       "      <th>4</th>\n",
       "      <td>92</td>\n",
       "      <td>2014</td>\n",
       "      <td>0.070980</td>\n",
       "      <td>0.083984</td>\n",
       "      <td>1</td>\n",
       "      <td>0</td>\n",
       "      <td>1</td>\n",
       "      <td>0</td>\n",
       "      <td>0</td>\n",
       "      <td>8.0</td>\n",
       "    </tr>\n",
       "  </tbody>\n",
       "</table>\n",
       "</div>"
      ],
      "text/plain": [
       "   Car_Name  Year  Present_Price  Kms_Driven  Fuel_Type  Seller_Type  \\\n",
       "0        90  2014       0.057109    0.053053          2            0   \n",
       "1        93  2013       0.099913    0.085085          1            0   \n",
       "2        68  2017       0.103273    0.012813          2            0   \n",
       "3        96  2011       0.041504    0.009409          2            0   \n",
       "4        92  2014       0.070980    0.083984          1            0   \n",
       "\n",
       "   Transmission  Owner  Company  YearDelta  \n",
       "0             1      0        0        8.0  \n",
       "1             1      0        0        9.0  \n",
       "2             1      0        0        5.0  \n",
       "3             1      0        0       11.0  \n",
       "4             1      0        0        8.0  "
      ]
     },
     "execution_count": 10,
     "metadata": {},
     "output_type": "execute_result"
    }
   ],
   "source": [
    "X = dataset.copy()\n",
    "y = X['Selling_Price']\n",
    "X.drop('Selling_Price', axis=1, inplace=True)\n",
    "X.head()"
   ]
  },
  {
   "cell_type": "code",
   "execution_count": 11,
   "id": "40c5f4a9",
   "metadata": {},
   "outputs": [
    {
     "name": "stdout",
     "output_type": "stream",
     "text": [
      "(299, 10)\n",
      "(299,)\n"
     ]
    }
   ],
   "source": [
    "print(X.shape)\n",
    "print(y.shape)"
   ]
  },
  {
   "cell_type": "markdown",
   "id": "db19d574",
   "metadata": {},
   "source": [
    "## 3.5 Split the data into training set and testing set"
   ]
  },
  {
   "cell_type": "code",
   "execution_count": 12,
   "id": "44a492cf",
   "metadata": {},
   "outputs": [],
   "source": [
    "from sklearn.model_selection import train_test_split\n",
    "\n",
    "X_train, X_test, y_train, y_test = train_test_split(X, y, test_size = 0.2, random_state=1)"
   ]
  },
  {
   "cell_type": "code",
   "execution_count": 13,
   "id": "b9d40d5a",
   "metadata": {},
   "outputs": [
    {
     "name": "stdout",
     "output_type": "stream",
     "text": [
      "(239, 10)\n",
      "(239,)\n",
      "(60, 10)\n",
      "(60,)\n"
     ]
    }
   ],
   "source": [
    "print(X_train.shape)\n",
    "print(y_train.shape)\n",
    "print(X_test.shape)\n",
    "print(y_test.shape)"
   ]
  },
  {
   "cell_type": "markdown",
   "id": "5ac07e17",
   "metadata": {},
   "source": [
    "# 4. Deep Neural Network Architecture"
   ]
  },
  {
   "cell_type": "markdown",
   "id": "5f94fb1d",
   "metadata": {},
   "source": [
    "## 4.1 Design the architecture that you will be using to solve the prediction problem identified.\n",
    "\n",
    "* Add dense layers, specifying the number of units in each layer and the activation function used in the layer."
   ]
  },
  {
   "cell_type": "code",
   "execution_count": 14,
   "id": "555fc714",
   "metadata": {},
   "outputs": [
    {
     "name": "stderr",
     "output_type": "stream",
     "text": [
      "2022-11-27 10:20:32.773053: W tensorflow/stream_executor/platform/default/dso_loader.cc:64] Could not load dynamic library 'libcudart.so.11.0'; dlerror: libcudart.so.11.0: cannot open shared object file: No such file or directory\n",
      "2022-11-27 10:20:32.773122: I tensorflow/stream_executor/cuda/cudart_stub.cc:29] Ignore above cudart dlerror if you do not have a GPU set up on your machine.\n"
     ]
    }
   ],
   "source": [
    "from keras.models import Sequential\n",
    "from keras import layers"
   ]
  },
  {
   "cell_type": "code",
   "execution_count": 15,
   "id": "1b552c20",
   "metadata": {},
   "outputs": [
    {
     "name": "stderr",
     "output_type": "stream",
     "text": [
      "2022-11-27 10:20:34.348283: W tensorflow/stream_executor/platform/default/dso_loader.cc:64] Could not load dynamic library 'libcuda.so.1'; dlerror: libcuda.so.1: cannot open shared object file: No such file or directory\n",
      "2022-11-27 10:20:34.348312: W tensorflow/stream_executor/cuda/cuda_driver.cc:269] failed call to cuInit: UNKNOWN ERROR (303)\n",
      "2022-11-27 10:20:34.348339: I tensorflow/stream_executor/cuda/cuda_diagnostics.cc:156] kernel driver does not appear to be running on this host (seetha-HP-348-G4): /proc/driver/nvidia/version does not exist\n",
      "2022-11-27 10:20:34.348621: I tensorflow/core/platform/cpu_feature_guard.cc:151] This TensorFlow binary is optimized with oneAPI Deep Neural Network Library (oneDNN) to use the following CPU instructions in performance-critical operations:  AVX2 FMA\n",
      "To enable them in other operations, rebuild TensorFlow with the appropriate compiler flags.\n"
     ]
    }
   ],
   "source": [
    "input_dim = X_train.shape[1]  # Number of features\n",
    "\n",
    "model = Sequential()\n",
    "model.add(layers.Dense(8, input_dim=input_dim, activation='relu'))\n",
    "model.add(layers.Dense(1))"
   ]
  },
  {
   "cell_type": "code",
   "execution_count": 16,
   "id": "e2bf8b36",
   "metadata": {},
   "outputs": [
    {
     "name": "stdout",
     "output_type": "stream",
     "text": [
      "Model: \"sequential\"\n",
      "_________________________________________________________________\n",
      " Layer (type)                Output Shape              Param #   \n",
      "=================================================================\n",
      " dense (Dense)               (None, 8)                 88        \n",
      "                                                                 \n",
      " dense_1 (Dense)             (None, 1)                 9         \n",
      "                                                                 \n",
      "=================================================================\n",
      "Total params: 97\n",
      "Trainable params: 97\n",
      "Non-trainable params: 0\n",
      "_________________________________________________________________\n"
     ]
    }
   ],
   "source": [
    "model.summary()"
   ]
  },
  {
   "cell_type": "markdown",
   "id": "f3dcad3a",
   "metadata": {},
   "source": [
    "# 5. Training the model\n",
    "\n",
    "## 5.1 Configure the training\n",
    "\n",
    "Configure the model for training, by using appropriate optimizers and regularizations"
   ]
  },
  {
   "cell_type": "code",
   "execution_count": 17,
   "id": "d76cac92",
   "metadata": {},
   "outputs": [],
   "source": [
    "model.compile(loss='mean_squared_error', \n",
    "              optimizer='adam', \n",
    "              metrics=['accuracy'])\n"
   ]
  },
  {
   "cell_type": "markdown",
   "id": "0056d53a",
   "metadata": {},
   "source": [
    "## 5.2 Train the model"
   ]
  },
  {
   "cell_type": "code",
   "execution_count": 18,
   "id": "85097346",
   "metadata": {},
   "outputs": [
    {
     "name": "stdout",
     "output_type": "stream",
     "text": [
      "Epoch 1/200\n",
      "16/16 [==============================] - 1s 13ms/step - loss: 133769.9844 - accuracy: 0.0000e+00 - val_loss: 123279.3359 - val_accuracy: 0.0000e+00\n",
      "Epoch 2/200\n",
      "16/16 [==============================] - 0s 4ms/step - loss: 112898.3906 - accuracy: 0.0000e+00 - val_loss: 104007.0938 - val_accuracy: 0.0000e+00\n",
      "Epoch 3/200\n",
      "16/16 [==============================] - 0s 4ms/step - loss: 95144.1328 - accuracy: 0.0000e+00 - val_loss: 87761.0156 - val_accuracy: 0.0000e+00\n",
      "Epoch 4/200\n",
      "16/16 [==============================] - 0s 4ms/step - loss: 80249.8281 - accuracy: 0.0000e+00 - val_loss: 74179.4609 - val_accuracy: 0.0000e+00\n",
      "Epoch 5/200\n",
      "16/16 [==============================] - 0s 4ms/step - loss: 67819.4766 - accuracy: 0.0000e+00 - val_loss: 62831.8047 - val_accuracy: 0.0000e+00\n",
      "Epoch 6/200\n",
      "16/16 [==============================] - 0s 3ms/step - loss: 57431.7773 - accuracy: 0.0000e+00 - val_loss: 53337.1758 - val_accuracy: 0.0000e+00\n",
      "Epoch 7/200\n",
      "16/16 [==============================] - 0s 4ms/step - loss: 48737.0938 - accuracy: 0.0000e+00 - val_loss: 45369.5039 - val_accuracy: 0.0000e+00\n",
      "Epoch 8/200\n",
      "16/16 [==============================] - 0s 5ms/step - loss: 41434.6094 - accuracy: 0.0000e+00 - val_loss: 38667.7109 - val_accuracy: 0.0000e+00\n",
      "Epoch 9/200\n",
      "16/16 [==============================] - 0s 4ms/step - loss: 35291.9453 - accuracy: 0.0000e+00 - val_loss: 33005.4531 - val_accuracy: 0.0000e+00\n",
      "Epoch 10/200\n",
      "16/16 [==============================] - 0s 3ms/step - loss: 30100.3223 - accuracy: 0.0000e+00 - val_loss: 28216.3047 - val_accuracy: 0.0000e+00\n",
      "Epoch 11/200\n",
      "16/16 [==============================] - 0s 3ms/step - loss: 25699.4668 - accuracy: 0.0000e+00 - val_loss: 24158.5449 - val_accuracy: 0.0000e+00\n",
      "Epoch 12/200\n",
      "16/16 [==============================] - 0s 4ms/step - loss: 21972.9453 - accuracy: 0.0000e+00 - val_loss: 20697.7207 - val_accuracy: 0.0000e+00\n",
      "Epoch 13/200\n",
      "16/16 [==============================] - 0s 3ms/step - loss: 18793.7441 - accuracy: 0.0000e+00 - val_loss: 17749.1738 - val_accuracy: 0.0000e+00\n",
      "Epoch 14/200\n",
      "16/16 [==============================] - 0s 3ms/step - loss: 16087.0723 - accuracy: 0.0000e+00 - val_loss: 15224.0205 - val_accuracy: 0.0000e+00\n",
      "Epoch 15/200\n",
      "16/16 [==============================] - 0s 3ms/step - loss: 13768.9561 - accuracy: 0.0000e+00 - val_loss: 13064.4355 - val_accuracy: 0.0000e+00\n",
      "Epoch 16/200\n",
      "16/16 [==============================] - 0s 3ms/step - loss: 11786.9463 - accuracy: 0.0000e+00 - val_loss: 11210.3232 - val_accuracy: 0.0000e+00\n",
      "Epoch 17/200\n",
      "16/16 [==============================] - 0s 3ms/step - loss: 10085.6738 - accuracy: 0.0000e+00 - val_loss: 9618.8027 - val_accuracy: 0.0000e+00\n",
      "Epoch 18/200\n",
      "16/16 [==============================] - 0s 3ms/step - loss: 8626.6367 - accuracy: 0.0000e+00 - val_loss: 8249.0771 - val_accuracy: 0.0000e+00\n",
      "Epoch 19/200\n",
      "16/16 [==============================] - 0s 4ms/step - loss: 7373.3213 - accuracy: 0.0000e+00 - val_loss: 7069.6084 - val_accuracy: 0.0000e+00\n",
      "Epoch 20/200\n",
      "16/16 [==============================] - 0s 4ms/step - loss: 6295.9443 - accuracy: 0.0000e+00 - val_loss: 6053.4678 - val_accuracy: 0.0000e+00\n",
      "Epoch 21/200\n",
      "16/16 [==============================] - 0s 4ms/step - loss: 5369.7983 - accuracy: 0.0000e+00 - val_loss: 5178.5200 - val_accuracy: 0.0000e+00\n",
      "Epoch 22/200\n",
      "16/16 [==============================] - 0s 4ms/step - loss: 4570.5024 - accuracy: 0.0000e+00 - val_loss: 4429.6245 - val_accuracy: 0.0000e+00\n",
      "Epoch 23/200\n",
      "16/16 [==============================] - 0s 4ms/step - loss: 3890.8044 - accuracy: 0.0000e+00 - val_loss: 3778.8938 - val_accuracy: 0.0000e+00\n",
      "Epoch 24/200\n",
      "16/16 [==============================] - 0s 4ms/step - loss: 3302.7393 - accuracy: 0.0000e+00 - val_loss: 3221.2322 - val_accuracy: 0.0000e+00\n",
      "Epoch 25/200\n",
      "16/16 [==============================] - 0s 4ms/step - loss: 2800.1877 - accuracy: 0.0000e+00 - val_loss: 2741.6848 - val_accuracy: 0.0000e+00\n",
      "Epoch 26/200\n",
      "16/16 [==============================] - 0s 4ms/step - loss: 2367.7122 - accuracy: 0.0000e+00 - val_loss: 2333.1501 - val_accuracy: 0.0000e+00\n",
      "Epoch 27/200\n",
      "16/16 [==============================] - 0s 3ms/step - loss: 2001.7786 - accuracy: 0.0000e+00 - val_loss: 1980.4161 - val_accuracy: 0.0000e+00\n",
      "Epoch 28/200\n",
      "16/16 [==============================] - 0s 3ms/step - loss: 1687.5518 - accuracy: 0.0000e+00 - val_loss: 1679.5034 - val_accuracy: 0.0000e+00\n",
      "Epoch 29/200\n",
      "16/16 [==============================] - 0s 3ms/step - loss: 1420.2001 - accuracy: 0.0000e+00 - val_loss: 1423.2590 - val_accuracy: 0.0000e+00\n",
      "Epoch 30/200\n",
      "16/16 [==============================] - 0s 3ms/step - loss: 1193.9840 - accuracy: 0.0000e+00 - val_loss: 1204.4879 - val_accuracy: 0.0000e+00\n",
      "Epoch 31/200\n",
      "16/16 [==============================] - 0s 3ms/step - loss: 1002.4786 - accuracy: 0.0000e+00 - val_loss: 1018.2821 - val_accuracy: 0.0000e+00\n",
      "Epoch 32/200\n",
      "16/16 [==============================] - 0s 4ms/step - loss: 839.8978 - accuracy: 0.0000e+00 - val_loss: 861.3149 - val_accuracy: 0.0000e+00\n",
      "Epoch 33/200\n",
      "16/16 [==============================] - 0s 3ms/step - loss: 703.9244 - accuracy: 0.0000e+00 - val_loss: 728.1267 - val_accuracy: 0.0000e+00\n",
      "Epoch 34/200\n",
      "16/16 [==============================] - 0s 3ms/step - loss: 589.8405 - accuracy: 0.0000e+00 - val_loss: 615.5209 - val_accuracy: 0.0000e+00\n",
      "Epoch 35/200\n",
      "16/16 [==============================] - 0s 3ms/step - loss: 494.1291 - accuracy: 0.0000e+00 - val_loss: 521.0071 - val_accuracy: 0.0000e+00\n",
      "Epoch 36/200\n",
      "16/16 [==============================] - 0s 3ms/step - loss: 414.4375 - accuracy: 0.0000e+00 - val_loss: 441.7955 - val_accuracy: 0.0000e+00\n",
      "Epoch 37/200\n",
      "16/16 [==============================] - 0s 4ms/step - loss: 348.6389 - accuracy: 0.0000e+00 - val_loss: 375.0521 - val_accuracy: 0.0000e+00\n",
      "Epoch 38/200\n",
      "16/16 [==============================] - 0s 3ms/step - loss: 293.5849 - accuracy: 0.0000e+00 - val_loss: 320.0596 - val_accuracy: 0.0000e+00\n",
      "Epoch 39/200\n",
      "16/16 [==============================] - 0s 3ms/step - loss: 249.8683 - accuracy: 0.0000e+00 - val_loss: 274.9316 - val_accuracy: 0.0000e+00\n",
      "Epoch 40/200\n",
      "16/16 [==============================] - 0s 3ms/step - loss: 213.6613 - accuracy: 0.0000e+00 - val_loss: 239.5966 - val_accuracy: 0.0000e+00\n",
      "Epoch 41/200\n",
      "16/16 [==============================] - 0s 3ms/step - loss: 185.4447 - accuracy: 0.0000e+00 - val_loss: 210.0697 - val_accuracy: 0.0000e+00\n",
      "Epoch 42/200\n",
      "16/16 [==============================] - 0s 3ms/step - loss: 162.0953 - accuracy: 0.0000e+00 - val_loss: 187.6589 - val_accuracy: 0.0000e+00\n",
      "Epoch 43/200\n",
      "16/16 [==============================] - 0s 3ms/step - loss: 144.8118 - accuracy: 0.0000e+00 - val_loss: 170.1283 - val_accuracy: 0.0000e+00\n",
      "Epoch 44/200\n",
      "16/16 [==============================] - 0s 3ms/step - loss: 130.1965 - accuracy: 0.0000e+00 - val_loss: 156.7444 - val_accuracy: 0.0000e+00\n",
      "Epoch 45/200\n",
      "16/16 [==============================] - 0s 3ms/step - loss: 118.8461 - accuracy: 0.0000e+00 - val_loss: 145.5552 - val_accuracy: 0.0000e+00\n",
      "Epoch 46/200\n",
      "16/16 [==============================] - 0s 4ms/step - loss: 109.7359 - accuracy: 0.0000e+00 - val_loss: 135.9921 - val_accuracy: 0.0000e+00\n",
      "Epoch 47/200\n",
      "16/16 [==============================] - 0s 3ms/step - loss: 102.0112 - accuracy: 0.0000e+00 - val_loss: 127.8833 - val_accuracy: 0.0000e+00\n",
      "Epoch 48/200\n",
      "16/16 [==============================] - 0s 3ms/step - loss: 95.7940 - accuracy: 0.0000e+00 - val_loss: 121.5976 - val_accuracy: 0.0000e+00\n",
      "Epoch 49/200\n",
      "16/16 [==============================] - 0s 3ms/step - loss: 91.2159 - accuracy: 0.0000e+00 - val_loss: 116.6381 - val_accuracy: 0.0000e+00\n",
      "Epoch 50/200\n",
      "16/16 [==============================] - 0s 3ms/step - loss: 87.4762 - accuracy: 0.0000e+00 - val_loss: 112.5013 - val_accuracy: 0.0000e+00\n",
      "Epoch 51/200\n",
      "16/16 [==============================] - 0s 3ms/step - loss: 84.3895 - accuracy: 0.0000e+00 - val_loss: 108.7890 - val_accuracy: 0.0000e+00\n",
      "Epoch 52/200\n",
      "16/16 [==============================] - 0s 3ms/step - loss: 81.5613 - accuracy: 0.0000e+00 - val_loss: 105.5518 - val_accuracy: 0.0000e+00\n",
      "Epoch 53/200\n",
      "16/16 [==============================] - 0s 3ms/step - loss: 78.9638 - accuracy: 0.0000e+00 - val_loss: 102.6906 - val_accuracy: 0.0000e+00\n",
      "Epoch 54/200\n",
      "16/16 [==============================] - 0s 3ms/step - loss: 76.6187 - accuracy: 0.0000e+00 - val_loss: 100.0727 - val_accuracy: 0.0000e+00\n",
      "Epoch 55/200\n",
      "16/16 [==============================] - 0s 3ms/step - loss: 74.5375 - accuracy: 0.0000e+00 - val_loss: 97.4557 - val_accuracy: 0.0000e+00\n",
      "Epoch 56/200\n",
      "16/16 [==============================] - 0s 3ms/step - loss: 72.4422 - accuracy: 0.0000e+00 - val_loss: 95.1465 - val_accuracy: 0.0000e+00\n",
      "Epoch 57/200\n",
      "16/16 [==============================] - 0s 3ms/step - loss: 70.5991 - accuracy: 0.0000e+00 - val_loss: 92.8936 - val_accuracy: 0.0000e+00\n",
      "Epoch 58/200\n",
      "16/16 [==============================] - 0s 3ms/step - loss: 68.7909 - accuracy: 0.0000e+00 - val_loss: 90.8377 - val_accuracy: 0.0000e+00\n",
      "Epoch 59/200\n",
      "16/16 [==============================] - 0s 3ms/step - loss: 67.1526 - accuracy: 0.0000e+00 - val_loss: 88.8735 - val_accuracy: 0.0000e+00\n",
      "Epoch 60/200\n",
      "16/16 [==============================] - 0s 3ms/step - loss: 65.5317 - accuracy: 0.0000e+00 - val_loss: 87.1366 - val_accuracy: 0.0000e+00\n",
      "Epoch 61/200\n",
      "16/16 [==============================] - 0s 3ms/step - loss: 64.0695 - accuracy: 0.0000e+00 - val_loss: 85.5156 - val_accuracy: 0.0000e+00\n",
      "Epoch 62/200\n",
      "16/16 [==============================] - 0s 3ms/step - loss: 62.7285 - accuracy: 0.0000e+00 - val_loss: 83.9394 - val_accuracy: 0.0000e+00\n",
      "Epoch 63/200\n",
      "16/16 [==============================] - 0s 3ms/step - loss: 61.4300 - accuracy: 0.0000e+00 - val_loss: 82.4831 - val_accuracy: 0.0000e+00\n",
      "Epoch 64/200\n",
      "16/16 [==============================] - 0s 3ms/step - loss: 60.1800 - accuracy: 0.0000e+00 - val_loss: 81.1840 - val_accuracy: 0.0000e+00\n",
      "Epoch 65/200\n",
      "16/16 [==============================] - 0s 3ms/step - loss: 59.0524 - accuracy: 0.0000e+00 - val_loss: 79.9422 - val_accuracy: 0.0000e+00\n",
      "Epoch 66/200\n",
      "16/16 [==============================] - 0s 3ms/step - loss: 57.9454 - accuracy: 0.0000e+00 - val_loss: 78.8545 - val_accuracy: 0.0000e+00\n",
      "Epoch 67/200\n",
      "16/16 [==============================] - 0s 3ms/step - loss: 57.0518 - accuracy: 0.0000e+00 - val_loss: 77.6538 - val_accuracy: 0.0000e+00\n",
      "Epoch 68/200\n",
      "16/16 [==============================] - 0s 3ms/step - loss: 55.9951 - accuracy: 0.0000e+00 - val_loss: 76.7003 - val_accuracy: 0.0000e+00\n",
      "Epoch 69/200\n",
      "16/16 [==============================] - 0s 3ms/step - loss: 55.1697 - accuracy: 0.0000e+00 - val_loss: 75.7099 - val_accuracy: 0.0000e+00\n",
      "Epoch 70/200\n",
      "16/16 [==============================] - 0s 3ms/step - loss: 54.2883 - accuracy: 0.0000e+00 - val_loss: 74.8805 - val_accuracy: 0.0000e+00\n",
      "Epoch 71/200\n",
      "16/16 [==============================] - 0s 3ms/step - loss: 53.5432 - accuracy: 0.0000e+00 - val_loss: 74.0348 - val_accuracy: 0.0000e+00\n",
      "Epoch 72/200\n",
      "16/16 [==============================] - 0s 3ms/step - loss: 52.8129 - accuracy: 0.0000e+00 - val_loss: 73.2303 - val_accuracy: 0.0000e+00\n",
      "Epoch 73/200\n",
      "16/16 [==============================] - 0s 3ms/step - loss: 52.0757 - accuracy: 0.0000e+00 - val_loss: 72.5516 - val_accuracy: 0.0000e+00\n",
      "Epoch 74/200\n",
      "16/16 [==============================] - 0s 3ms/step - loss: 51.4344 - accuracy: 0.0000e+00 - val_loss: 71.8788 - val_accuracy: 0.0000e+00\n",
      "Epoch 75/200\n",
      "16/16 [==============================] - 0s 3ms/step - loss: 50.7957 - accuracy: 0.0000e+00 - val_loss: 71.2791 - val_accuracy: 0.0000e+00\n",
      "Epoch 76/200\n",
      "16/16 [==============================] - 0s 3ms/step - loss: 50.2339 - accuracy: 0.0000e+00 - val_loss: 70.6667 - val_accuracy: 0.0000e+00\n",
      "Epoch 77/200\n",
      "16/16 [==============================] - 0s 3ms/step - loss: 49.6610 - accuracy: 0.0000e+00 - val_loss: 70.1206 - val_accuracy: 0.0000e+00\n",
      "Epoch 78/200\n",
      "16/16 [==============================] - 0s 3ms/step - loss: 49.1320 - accuracy: 0.0000e+00 - val_loss: 69.5981 - val_accuracy: 0.0000e+00\n",
      "Epoch 79/200\n",
      "16/16 [==============================] - 0s 3ms/step - loss: 48.6445 - accuracy: 0.0000e+00 - val_loss: 69.0800 - val_accuracy: 0.0000e+00\n",
      "Epoch 80/200\n",
      "16/16 [==============================] - 0s 3ms/step - loss: 48.1699 - accuracy: 0.0000e+00 - val_loss: 68.5885 - val_accuracy: 0.0000e+00\n",
      "Epoch 81/200\n",
      "16/16 [==============================] - 0s 3ms/step - loss: 47.6990 - accuracy: 0.0000e+00 - val_loss: 68.1529 - val_accuracy: 0.0000e+00\n",
      "Epoch 82/200\n",
      "16/16 [==============================] - 0s 3ms/step - loss: 47.2904 - accuracy: 0.0000e+00 - val_loss: 67.7115 - val_accuracy: 0.0000e+00\n",
      "Epoch 83/200\n",
      "16/16 [==============================] - 0s 3ms/step - loss: 46.8780 - accuracy: 0.0000e+00 - val_loss: 67.3009 - val_accuracy: 0.0000e+00\n",
      "Epoch 84/200\n",
      "16/16 [==============================] - 0s 3ms/step - loss: 46.4930 - accuracy: 0.0000e+00 - val_loss: 66.9115 - val_accuracy: 0.0000e+00\n",
      "Epoch 85/200\n",
      "16/16 [==============================] - 0s 3ms/step - loss: 46.1337 - accuracy: 0.0000e+00 - val_loss: 66.5344 - val_accuracy: 0.0000e+00\n",
      "Epoch 86/200\n",
      "16/16 [==============================] - 0s 3ms/step - loss: 45.7877 - accuracy: 0.0000e+00 - val_loss: 66.1771 - val_accuracy: 0.0000e+00\n",
      "Epoch 87/200\n",
      "16/16 [==============================] - 0s 3ms/step - loss: 45.4481 - accuracy: 0.0000e+00 - val_loss: 65.8525 - val_accuracy: 0.0000e+00\n",
      "Epoch 88/200\n",
      "16/16 [==============================] - 0s 3ms/step - loss: 45.1303 - accuracy: 0.0000e+00 - val_loss: 65.5493 - val_accuracy: 0.0000e+00\n",
      "Epoch 89/200\n",
      "16/16 [==============================] - 0s 3ms/step - loss: 44.8401 - accuracy: 0.0000e+00 - val_loss: 65.2441 - val_accuracy: 0.0000e+00\n",
      "Epoch 90/200\n",
      "16/16 [==============================] - 0s 3ms/step - loss: 44.5565 - accuracy: 0.0000e+00 - val_loss: 64.9495 - val_accuracy: 0.0000e+00\n",
      "Epoch 91/200\n",
      "16/16 [==============================] - 0s 3ms/step - loss: 44.2899 - accuracy: 0.0000e+00 - val_loss: 64.6601 - val_accuracy: 0.0000e+00\n",
      "Epoch 92/200\n",
      "16/16 [==============================] - 0s 3ms/step - loss: 44.0285 - accuracy: 0.0000e+00 - val_loss: 64.3900 - val_accuracy: 0.0000e+00\n",
      "Epoch 93/200\n",
      "16/16 [==============================] - 0s 4ms/step - loss: 43.7922 - accuracy: 0.0000e+00 - val_loss: 64.1207 - val_accuracy: 0.0000e+00\n",
      "Epoch 94/200\n",
      "16/16 [==============================] - 0s 3ms/step - loss: 43.5481 - accuracy: 0.0000e+00 - val_loss: 63.8823 - val_accuracy: 0.0000e+00\n",
      "Epoch 95/200\n",
      "16/16 [==============================] - 0s 4ms/step - loss: 43.3371 - accuracy: 0.0000e+00 - val_loss: 63.6433 - val_accuracy: 0.0000e+00\n",
      "Epoch 96/200\n",
      "16/16 [==============================] - 0s 3ms/step - loss: 43.1125 - accuracy: 0.0000e+00 - val_loss: 63.4428 - val_accuracy: 0.0000e+00\n",
      "Epoch 97/200\n",
      "16/16 [==============================] - 0s 3ms/step - loss: 42.9268 - accuracy: 0.0000e+00 - val_loss: 63.2297 - val_accuracy: 0.0000e+00\n",
      "Epoch 98/200\n",
      "16/16 [==============================] - 0s 3ms/step - loss: 42.7332 - accuracy: 0.0000e+00 - val_loss: 63.0370 - val_accuracy: 0.0000e+00\n",
      "Epoch 99/200\n",
      "16/16 [==============================] - 0s 3ms/step - loss: 42.5619 - accuracy: 0.0000e+00 - val_loss: 62.8403 - val_accuracy: 0.0000e+00\n",
      "Epoch 100/200\n",
      "16/16 [==============================] - 0s 3ms/step - loss: 42.3942 - accuracy: 0.0000e+00 - val_loss: 62.6519 - val_accuracy: 0.0000e+00\n",
      "Epoch 101/200\n",
      "16/16 [==============================] - 0s 3ms/step - loss: 42.2360 - accuracy: 0.0000e+00 - val_loss: 62.4720 - val_accuracy: 0.0000e+00\n",
      "Epoch 102/200\n",
      "16/16 [==============================] - 0s 3ms/step - loss: 42.0760 - accuracy: 0.0000e+00 - val_loss: 62.3155 - val_accuracy: 0.0000e+00\n",
      "Epoch 103/200\n",
      "16/16 [==============================] - 0s 3ms/step - loss: 41.9347 - accuracy: 0.0000e+00 - val_loss: 62.1641 - val_accuracy: 0.0000e+00\n",
      "Epoch 104/200\n",
      "16/16 [==============================] - 0s 4ms/step - loss: 41.7984 - accuracy: 0.0000e+00 - val_loss: 62.0147 - val_accuracy: 0.0000e+00\n",
      "Epoch 105/200\n",
      "16/16 [==============================] - 0s 3ms/step - loss: 41.6733 - accuracy: 0.0000e+00 - val_loss: 61.8620 - val_accuracy: 0.0000e+00\n",
      "Epoch 106/200\n",
      "16/16 [==============================] - 0s 4ms/step - loss: 41.5439 - accuracy: 0.0000e+00 - val_loss: 61.7224 - val_accuracy: 0.0000e+00\n"
     ]
    },
    {
     "name": "stdout",
     "output_type": "stream",
     "text": [
      "Epoch 107/200\n",
      "16/16 [==============================] - 0s 3ms/step - loss: 41.4219 - accuracy: 0.0000e+00 - val_loss: 61.5923 - val_accuracy: 0.0000e+00\n",
      "Epoch 108/200\n",
      "16/16 [==============================] - 0s 3ms/step - loss: 41.3057 - accuracy: 0.0000e+00 - val_loss: 61.4675 - val_accuracy: 0.0000e+00\n",
      "Epoch 109/200\n",
      "16/16 [==============================] - 0s 3ms/step - loss: 41.1954 - accuracy: 0.0000e+00 - val_loss: 61.3473 - val_accuracy: 0.0000e+00\n",
      "Epoch 110/200\n",
      "16/16 [==============================] - 0s 3ms/step - loss: 41.0900 - accuracy: 0.0000e+00 - val_loss: 61.2301 - val_accuracy: 0.0000e+00\n",
      "Epoch 111/200\n",
      "16/16 [==============================] - 0s 3ms/step - loss: 40.9883 - accuracy: 0.0000e+00 - val_loss: 61.1157 - val_accuracy: 0.0000e+00\n",
      "Epoch 112/200\n",
      "16/16 [==============================] - 0s 3ms/step - loss: 40.8898 - accuracy: 0.0000e+00 - val_loss: 61.0052 - val_accuracy: 0.0000e+00\n",
      "Epoch 113/200\n",
      "16/16 [==============================] - 0s 3ms/step - loss: 40.7908 - accuracy: 0.0000e+00 - val_loss: 60.9051 - val_accuracy: 0.0000e+00\n",
      "Epoch 114/200\n",
      "16/16 [==============================] - 0s 3ms/step - loss: 40.7037 - accuracy: 0.0000e+00 - val_loss: 60.8016 - val_accuracy: 0.0000e+00\n",
      "Epoch 115/200\n",
      "16/16 [==============================] - 0s 3ms/step - loss: 40.6102 - accuracy: 0.0000e+00 - val_loss: 60.7102 - val_accuracy: 0.0000e+00\n",
      "Epoch 116/200\n",
      "16/16 [==============================] - 0s 3ms/step - loss: 40.5290 - accuracy: 0.0000e+00 - val_loss: 60.6143 - val_accuracy: 0.0000e+00\n",
      "Epoch 117/200\n",
      "16/16 [==============================] - 0s 3ms/step - loss: 40.4442 - accuracy: 0.0000e+00 - val_loss: 60.5263 - val_accuracy: 0.0000e+00\n",
      "Epoch 118/200\n",
      "16/16 [==============================] - 0s 3ms/step - loss: 40.3668 - accuracy: 0.0000e+00 - val_loss: 60.4377 - val_accuracy: 0.0000e+00\n",
      "Epoch 119/200\n",
      "16/16 [==============================] - 0s 3ms/step - loss: 40.2874 - accuracy: 0.0000e+00 - val_loss: 60.3547 - val_accuracy: 0.0000e+00\n",
      "Epoch 120/200\n",
      "16/16 [==============================] - 0s 3ms/step - loss: 40.2099 - accuracy: 0.0000e+00 - val_loss: 60.2784 - val_accuracy: 0.0000e+00\n",
      "Epoch 121/200\n",
      "16/16 [==============================] - 0s 3ms/step - loss: 40.1386 - accuracy: 0.0000e+00 - val_loss: 60.2024 - val_accuracy: 0.0000e+00\n",
      "Epoch 122/200\n",
      "16/16 [==============================] - 0s 3ms/step - loss: 40.0712 - accuracy: 0.0000e+00 - val_loss: 60.1236 - val_accuracy: 0.0000e+00\n",
      "Epoch 123/200\n",
      "16/16 [==============================] - 0s 3ms/step - loss: 39.9992 - accuracy: 0.0000e+00 - val_loss: 60.0535 - val_accuracy: 0.0000e+00\n",
      "Epoch 124/200\n",
      "16/16 [==============================] - 0s 3ms/step - loss: 39.9336 - accuracy: 0.0000e+00 - val_loss: 59.9829 - val_accuracy: 0.0000e+00\n",
      "Epoch 125/200\n",
      "16/16 [==============================] - 0s 4ms/step - loss: 39.8716 - accuracy: 0.0000e+00 - val_loss: 59.9111 - val_accuracy: 0.0000e+00\n",
      "Epoch 126/200\n",
      "16/16 [==============================] - 0s 3ms/step - loss: 39.8048 - accuracy: 0.0000e+00 - val_loss: 59.8495 - val_accuracy: 0.0000e+00\n",
      "Epoch 127/200\n",
      "16/16 [==============================] - 0s 3ms/step - loss: 39.7472 - accuracy: 0.0000e+00 - val_loss: 59.7834 - val_accuracy: 0.0000e+00\n",
      "Epoch 128/200\n",
      "16/16 [==============================] - 0s 4ms/step - loss: 39.6861 - accuracy: 0.0000e+00 - val_loss: 59.7229 - val_accuracy: 0.0000e+00\n",
      "Epoch 129/200\n",
      "16/16 [==============================] - 0s 3ms/step - loss: 39.6295 - accuracy: 0.0000e+00 - val_loss: 59.6624 - val_accuracy: 0.0000e+00\n",
      "Epoch 130/200\n",
      "16/16 [==============================] - 0s 3ms/step - loss: 39.5734 - accuracy: 0.0000e+00 - val_loss: 59.6031 - val_accuracy: 0.0000e+00\n",
      "Epoch 131/200\n",
      "16/16 [==============================] - 0s 3ms/step - loss: 39.5240 - accuracy: 0.0000e+00 - val_loss: 59.5378 - val_accuracy: 0.0000e+00\n",
      "Epoch 132/200\n",
      "16/16 [==============================] - 0s 3ms/step - loss: 39.4659 - accuracy: 0.0000e+00 - val_loss: 59.4824 - val_accuracy: 0.0000e+00\n",
      "Epoch 133/200\n",
      "16/16 [==============================] - 0s 3ms/step - loss: 39.4154 - accuracy: 0.0000e+00 - val_loss: 59.4269 - val_accuracy: 0.0000e+00\n",
      "Epoch 134/200\n",
      "16/16 [==============================] - 0s 3ms/step - loss: 39.3639 - accuracy: 0.0000e+00 - val_loss: 59.3752 - val_accuracy: 0.0000e+00\n",
      "Epoch 135/200\n",
      "16/16 [==============================] - 0s 3ms/step - loss: 39.3181 - accuracy: 0.0000e+00 - val_loss: 59.3200 - val_accuracy: 0.0000e+00\n",
      "Epoch 136/200\n",
      "16/16 [==============================] - 0s 3ms/step - loss: 39.2677 - accuracy: 0.0000e+00 - val_loss: 59.2709 - val_accuracy: 0.0000e+00\n",
      "Epoch 137/200\n",
      "16/16 [==============================] - 0s 3ms/step - loss: 39.2209 - accuracy: 0.0000e+00 - val_loss: 59.2249 - val_accuracy: 0.0000e+00\n",
      "Epoch 138/200\n",
      "16/16 [==============================] - 0s 3ms/step - loss: 39.1787 - accuracy: 0.0000e+00 - val_loss: 59.1733 - val_accuracy: 0.0000e+00\n",
      "Epoch 139/200\n",
      "16/16 [==============================] - 0s 3ms/step - loss: 39.1339 - accuracy: 0.0000e+00 - val_loss: 59.1246 - val_accuracy: 0.0000e+00\n",
      "Epoch 140/200\n",
      "16/16 [==============================] - 0s 3ms/step - loss: 39.0909 - accuracy: 0.0000e+00 - val_loss: 59.0765 - val_accuracy: 0.0000e+00\n",
      "Epoch 141/200\n",
      "16/16 [==============================] - 0s 3ms/step - loss: 39.0480 - accuracy: 0.0000e+00 - val_loss: 59.0312 - val_accuracy: 0.0000e+00\n",
      "Epoch 142/200\n",
      "16/16 [==============================] - 0s 3ms/step - loss: 39.0083 - accuracy: 0.0000e+00 - val_loss: 58.9844 - val_accuracy: 0.0000e+00\n",
      "Epoch 143/200\n",
      "16/16 [==============================] - 0s 4ms/step - loss: 38.9678 - accuracy: 0.0000e+00 - val_loss: 58.9397 - val_accuracy: 0.0000e+00\n",
      "Epoch 144/200\n",
      "16/16 [==============================] - 0s 3ms/step - loss: 38.9273 - accuracy: 0.0000e+00 - val_loss: 58.8985 - val_accuracy: 0.0000e+00\n",
      "Epoch 145/200\n",
      "16/16 [==============================] - 0s 3ms/step - loss: 38.8909 - accuracy: 0.0000e+00 - val_loss: 58.8542 - val_accuracy: 0.0000e+00\n",
      "Epoch 146/200\n",
      "16/16 [==============================] - 0s 4ms/step - loss: 38.8535 - accuracy: 0.0000e+00 - val_loss: 58.8115 - val_accuracy: 0.0000e+00\n",
      "Epoch 147/200\n",
      "16/16 [==============================] - 0s 4ms/step - loss: 38.8156 - accuracy: 0.0000e+00 - val_loss: 58.7726 - val_accuracy: 0.0000e+00\n",
      "Epoch 148/200\n",
      "16/16 [==============================] - 0s 5ms/step - loss: 38.7814 - accuracy: 0.0000e+00 - val_loss: 58.7316 - val_accuracy: 0.0000e+00\n",
      "Epoch 149/200\n",
      "16/16 [==============================] - 0s 5ms/step - loss: 38.7450 - accuracy: 0.0000e+00 - val_loss: 58.6957 - val_accuracy: 0.0000e+00\n",
      "Epoch 150/200\n",
      "16/16 [==============================] - 0s 4ms/step - loss: 38.7141 - accuracy: 0.0000e+00 - val_loss: 58.6535 - val_accuracy: 0.0000e+00\n",
      "Epoch 151/200\n",
      "16/16 [==============================] - 0s 3ms/step - loss: 38.6794 - accuracy: 0.0000e+00 - val_loss: 58.6155 - val_accuracy: 0.0000e+00\n",
      "Epoch 152/200\n",
      "16/16 [==============================] - 0s 3ms/step - loss: 38.6468 - accuracy: 0.0000e+00 - val_loss: 58.5788 - val_accuracy: 0.0000e+00\n",
      "Epoch 153/200\n",
      "16/16 [==============================] - 0s 3ms/step - loss: 38.6148 - accuracy: 0.0000e+00 - val_loss: 58.5430 - val_accuracy: 0.0000e+00\n",
      "Epoch 154/200\n",
      "16/16 [==============================] - 0s 3ms/step - loss: 38.5839 - accuracy: 0.0000e+00 - val_loss: 58.5073 - val_accuracy: 0.0000e+00\n",
      "Epoch 155/200\n",
      "16/16 [==============================] - 0s 3ms/step - loss: 38.5526 - accuracy: 0.0000e+00 - val_loss: 58.4735 - val_accuracy: 0.0000e+00\n",
      "Epoch 156/200\n",
      "16/16 [==============================] - 0s 3ms/step - loss: 38.5227 - accuracy: 0.0000e+00 - val_loss: 58.4396 - val_accuracy: 0.0000e+00\n",
      "Epoch 157/200\n",
      "16/16 [==============================] - 0s 4ms/step - loss: 38.4937 - accuracy: 0.0000e+00 - val_loss: 58.4043 - val_accuracy: 0.0000e+00\n",
      "Epoch 158/200\n",
      "16/16 [==============================] - 0s 3ms/step - loss: 38.4642 - accuracy: 0.0000e+00 - val_loss: 58.3703 - val_accuracy: 0.0000e+00\n",
      "Epoch 159/200\n",
      "16/16 [==============================] - 0s 3ms/step - loss: 38.4356 - accuracy: 0.0000e+00 - val_loss: 58.3368 - val_accuracy: 0.0000e+00\n",
      "Epoch 160/200\n",
      "16/16 [==============================] - 0s 3ms/step - loss: 38.4056 - accuracy: 0.0000e+00 - val_loss: 58.3067 - val_accuracy: 0.0000e+00\n",
      "Epoch 161/200\n",
      "16/16 [==============================] - 0s 3ms/step - loss: 38.3785 - accuracy: 0.0000e+00 - val_loss: 58.2742 - val_accuracy: 0.0000e+00\n",
      "Epoch 162/200\n",
      "16/16 [==============================] - 0s 4ms/step - loss: 38.3528 - accuracy: 0.0000e+00 - val_loss: 58.2382 - val_accuracy: 0.0000e+00\n",
      "Epoch 163/200\n",
      "16/16 [==============================] - 0s 5ms/step - loss: 38.3225 - accuracy: 0.0000e+00 - val_loss: 58.2083 - val_accuracy: 0.0000e+00\n",
      "Epoch 164/200\n",
      "16/16 [==============================] - 0s 3ms/step - loss: 38.2968 - accuracy: 0.0000e+00 - val_loss: 58.1755 - val_accuracy: 0.0000e+00\n",
      "Epoch 165/200\n",
      "16/16 [==============================] - 0s 3ms/step - loss: 38.2695 - accuracy: 0.0000e+00 - val_loss: 58.1442 - val_accuracy: 0.0000e+00\n",
      "Epoch 166/200\n",
      "16/16 [==============================] - 0s 3ms/step - loss: 38.2430 - accuracy: 0.0000e+00 - val_loss: 58.1129 - val_accuracy: 0.0000e+00\n",
      "Epoch 167/200\n",
      "16/16 [==============================] - 0s 3ms/step - loss: 38.2168 - accuracy: 0.0000e+00 - val_loss: 58.0818 - val_accuracy: 0.0000e+00\n",
      "Epoch 168/200\n",
      "16/16 [==============================] - 0s 3ms/step - loss: 38.1904 - accuracy: 0.0000e+00 - val_loss: 58.0524 - val_accuracy: 0.0000e+00\n",
      "Epoch 169/200\n",
      "16/16 [==============================] - 0s 3ms/step - loss: 38.1646 - accuracy: 0.0000e+00 - val_loss: 58.0229 - val_accuracy: 0.0000e+00\n",
      "Epoch 170/200\n",
      "16/16 [==============================] - 0s 3ms/step - loss: 38.1408 - accuracy: 0.0000e+00 - val_loss: 57.9896 - val_accuracy: 0.0000e+00\n",
      "Epoch 171/200\n",
      "16/16 [==============================] - 0s 3ms/step - loss: 38.1129 - accuracy: 0.0000e+00 - val_loss: 57.9610 - val_accuracy: 0.0000e+00\n",
      "Epoch 172/200\n",
      "16/16 [==============================] - 0s 3ms/step - loss: 38.0882 - accuracy: 0.0000e+00 - val_loss: 57.9316 - val_accuracy: 0.0000e+00\n",
      "Epoch 173/200\n",
      "16/16 [==============================] - 0s 3ms/step - loss: 38.0628 - accuracy: 0.0000e+00 - val_loss: 57.9021 - val_accuracy: 0.0000e+00\n",
      "Epoch 174/200\n",
      "16/16 [==============================] - 0s 3ms/step - loss: 38.0370 - accuracy: 0.0000e+00 - val_loss: 57.8740 - val_accuracy: 0.0000e+00\n",
      "Epoch 175/200\n",
      "16/16 [==============================] - 0s 3ms/step - loss: 38.0124 - accuracy: 0.0000e+00 - val_loss: 57.8438 - val_accuracy: 0.0000e+00\n",
      "Epoch 176/200\n",
      "16/16 [==============================] - 0s 3ms/step - loss: 37.9868 - accuracy: 0.0000e+00 - val_loss: 57.8151 - val_accuracy: 0.0000e+00\n",
      "Epoch 177/200\n",
      "16/16 [==============================] - 0s 3ms/step - loss: 37.9624 - accuracy: 0.0000e+00 - val_loss: 57.7847 - val_accuracy: 0.0000e+00\n",
      "Epoch 178/200\n",
      "16/16 [==============================] - 0s 3ms/step - loss: 37.9364 - accuracy: 0.0000e+00 - val_loss: 57.7567 - val_accuracy: 0.0000e+00\n",
      "Epoch 179/200\n",
      "16/16 [==============================] - 0s 3ms/step - loss: 37.9122 - accuracy: 0.0000e+00 - val_loss: 57.7269 - val_accuracy: 0.0000e+00\n",
      "Epoch 180/200\n",
      "16/16 [==============================] - 0s 3ms/step - loss: 37.8871 - accuracy: 0.0000e+00 - val_loss: 57.6978 - val_accuracy: 0.0000e+00\n",
      "Epoch 181/200\n",
      "16/16 [==============================] - 0s 3ms/step - loss: 37.8624 - accuracy: 0.0000e+00 - val_loss: 57.6687 - val_accuracy: 0.0000e+00\n",
      "Epoch 182/200\n",
      "16/16 [==============================] - 0s 3ms/step - loss: 37.8370 - accuracy: 0.0000e+00 - val_loss: 57.6413 - val_accuracy: 0.0000e+00\n",
      "Epoch 183/200\n",
      "16/16 [==============================] - 0s 3ms/step - loss: 37.8127 - accuracy: 0.0000e+00 - val_loss: 57.6127 - val_accuracy: 0.0000e+00\n",
      "Epoch 184/200\n",
      "16/16 [==============================] - 0s 3ms/step - loss: 37.7878 - accuracy: 0.0000e+00 - val_loss: 57.5846 - val_accuracy: 0.0000e+00\n",
      "Epoch 185/200\n",
      "16/16 [==============================] - 0s 3ms/step - loss: 37.7627 - accuracy: 0.0000e+00 - val_loss: 57.5571 - val_accuracy: 0.0000e+00\n",
      "Epoch 186/200\n",
      "16/16 [==============================] - 0s 4ms/step - loss: 37.7385 - accuracy: 0.0042 - val_loss: 57.5289 - val_accuracy: 0.0000e+00\n",
      "Epoch 187/200\n",
      "16/16 [==============================] - 0s 4ms/step - loss: 37.7130 - accuracy: 0.0042 - val_loss: 57.5017 - val_accuracy: 0.0000e+00\n",
      "Epoch 188/200\n",
      "16/16 [==============================] - 0s 4ms/step - loss: 37.6899 - accuracy: 0.0042 - val_loss: 57.4715 - val_accuracy: 0.0000e+00\n",
      "Epoch 189/200\n",
      "16/16 [==============================] - 0s 4ms/step - loss: 37.6640 - accuracy: 0.0042 - val_loss: 57.4444 - val_accuracy: 0.0000e+00\n",
      "Epoch 190/200\n",
      "16/16 [==============================] - 0s 4ms/step - loss: 37.6392 - accuracy: 0.0042 - val_loss: 57.4169 - val_accuracy: 0.0000e+00\n",
      "Epoch 191/200\n",
      "16/16 [==============================] - 0s 4ms/step - loss: 37.6152 - accuracy: 0.0042 - val_loss: 57.3880 - val_accuracy: 0.0000e+00\n",
      "Epoch 192/200\n",
      "16/16 [==============================] - 0s 4ms/step - loss: 37.5904 - accuracy: 0.0042 - val_loss: 57.3596 - val_accuracy: 0.0000e+00\n",
      "Epoch 193/200\n",
      "16/16 [==============================] - 0s 3ms/step - loss: 37.5654 - accuracy: 0.0042 - val_loss: 57.3320 - val_accuracy: 0.0000e+00\n",
      "Epoch 194/200\n",
      "16/16 [==============================] - 0s 3ms/step - loss: 37.5402 - accuracy: 0.0042 - val_loss: 57.3055 - val_accuracy: 0.0000e+00\n",
      "Epoch 195/200\n",
      "16/16 [==============================] - 0s 3ms/step - loss: 37.5165 - accuracy: 0.0042 - val_loss: 57.2771 - val_accuracy: 0.0000e+00\n",
      "Epoch 196/200\n",
      "16/16 [==============================] - 0s 3ms/step - loss: 37.4906 - accuracy: 0.0042 - val_loss: 57.2519 - val_accuracy: 0.0000e+00\n",
      "Epoch 197/200\n",
      "16/16 [==============================] - 0s 4ms/step - loss: 37.4675 - accuracy: 0.0042 - val_loss: 57.2229 - val_accuracy: 0.0000e+00\n",
      "Epoch 198/200\n",
      "16/16 [==============================] - 0s 4ms/step - loss: 37.4418 - accuracy: 0.0042 - val_loss: 57.1963 - val_accuracy: 0.0000e+00\n",
      "Epoch 199/200\n",
      "16/16 [==============================] - 0s 4ms/step - loss: 37.4177 - accuracy: 0.0042 - val_loss: 57.1686 - val_accuracy: 0.0000e+00\n",
      "Epoch 200/200\n",
      "16/16 [==============================] - 0s 4ms/step - loss: 37.3931 - accuracy: 0.0042 - val_loss: 57.1408 - val_accuracy: 0.0000e+00\n"
     ]
    }
   ],
   "source": [
    "classifier_nn = model.fit(X_train,y_train,\n",
    "                    epochs=200,\n",
    "                    verbose=True,\n",
    "                    validation_data=(X_test, y_test),\n",
    "                    batch_size=15)"
   ]
  },
  {
   "cell_type": "markdown",
   "id": "6859bc2e",
   "metadata": {},
   "source": [
    "# 6. Test the model"
   ]
  },
  {
   "cell_type": "code",
   "execution_count": 19,
   "id": "4fe71bdb",
   "metadata": {},
   "outputs": [],
   "source": [
    "# Predict Labels\n",
    "testLoss, testAccuracy = model.evaluate(X_test, y_test, verbose=0)\n",
    "\n",
    "# Predict Labels\n",
    "Ypredicted = model.predict(X_test)\n"
   ]
  },
  {
   "cell_type": "markdown",
   "id": "38109a96",
   "metadata": {},
   "source": [
    "## 7.  Conclusion \n",
    "\n",
    "Plot the training and validation loss\n",
    "Report the testing accuracy and loss.\n",
    "\n",
    "Report values for preformance study metrics like accuracy, precision, recall, F1 Score.\n",
    "\n",
    "A proper comparision based on different metrics should be done and not just accuracy alone, only then the comparision becomes authentic. You may use Confusion matrix, classification report, MAE etc per the requirement of your application/problem."
   ]
  },
  {
   "cell_type": "markdown",
   "id": "04ff993a",
   "metadata": {},
   "source": [
    "--------------Type the answers below this line--------------"
   ]
  },
  {
   "cell_type": "code",
   "execution_count": 20,
   "id": "9bcdeaca",
   "metadata": {},
   "outputs": [
    {
     "data": {
      "image/png": "[encoded data removed]",
      "text/plain": [
       "<Figure size 432x288 with 1 Axes>"
      ]
     },
     "metadata": {
      "needs_background": "light"
     },
     "output_type": "display_data"
    }
   ],
   "source": [
    "# summarize history for loss\n",
    "\n",
    "import matplotlib.pyplot as plt\n",
    "\n",
    "plt.plot(classifier_nn.history['loss'])\n",
    "plt.plot(classifier_nn.history['val_loss'])\n",
    "plt.title('model loss')\n",
    "plt.ylabel('loss')\n",
    "plt.xlabel('epoch')\n",
    "plt.legend(['train', 'test'], loc='upper left')\n",
    "plt.show()"
   ]
  },
  {
   "cell_type": "code",
   "execution_count": 21,
   "id": "52420a66",
   "metadata": {},
   "outputs": [
    {
     "name": "stdout",
     "output_type": "stream",
     "text": [
      "Mean Squared Error: \t 57.14078711360294\n",
      "R2 Score: \t\t -0.4372066950555602\n"
     ]
    }
   ],
   "source": [
    "from sklearn.metrics import r2_score, mean_squared_error\n",
    "\n",
    "print(\"Mean Squared Error: \\t\", mean_squared_error(y_test, Ypredicted))\n",
    "print(\"R2 Score: \\t\\t\", r2_score(y_test, Ypredicted))"
   ]
  },
  {
   "cell_type": "code",
   "execution_count": 22,
   "id": "60ff7ece",
   "metadata": {},
   "outputs": [
    {
     "data": {
      "image/png": "[encoded data removed]",
      "text/plain": [
       "<Figure size 1584x576 with 2 Axes>"
      ]
     },
     "metadata": {
      "needs_background": "light"
     },
     "output_type": "display_data"
    }
   ],
   "source": [
    "fig, (ax1, ax2) = plt.subplots(1,2, figsize=(22,8))\n",
    "\n",
    "ax1.scatter(y_test,Ypredicted);\n",
    "ax1.set_title('Neural Network');\n",
    "ax1.set_xlabel('Selling Price');\n",
    "ax1.set_ylabel('Predicted Price');\n",
    "\n",
    "ax2.set_title('Neural Network Residual');\n",
    "ax2.hist(y_test-Ypredicted.flatten(), density=True);"
   ]
  },
  {
   "cell_type": "markdown",
   "id": "b016ff6b",
   "metadata": {},
   "source": [
    "# 8. Solution\n",
    "\n",
    "What is the solution that is proposed to solve the business problem discussed in Section 1. Also share your learnings while working through solving the problem in terms of challenges, observations, decisions made etc.\n",
    "\n"
   ]
  },
  {
   "cell_type": "raw",
   "id": "864ae8e5",
   "metadata": {},
   "source": [
    "##---------Type the answers below this line------------------##"
   ]
  }
 ],
 "metadata": {
  "kernelspec": {
   "display_name": "Python 3",
   "language": "python",
   "name": "python3"
  },
  "language_info": {
   "codemirror_mode": {
    "name": "ipython",
    "version": 3
   },
   "file_extension": ".py",
   "mimetype": "text/x-python",
   "name": "python",
   "nbconvert_exporter": "python",
   "pygments_lexer": "ipython3",
   "version": "3.8.8"
  }
 },
 "nbformat": 4,
 "nbformat_minor": 5
}
