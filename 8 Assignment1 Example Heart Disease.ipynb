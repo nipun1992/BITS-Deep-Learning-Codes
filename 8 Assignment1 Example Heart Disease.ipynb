{
 "cells": [
  {
   "cell_type": "markdown",
   "id": "634ce139",
   "metadata": {},
   "source": [
    "## Group No\n",
    "\n",
    "## Group Member Names:\n",
    "1. \n",
    "2.\n",
    "3.\n"
   ]
  },
  {
   "cell_type": "markdown",
   "id": "abec8684",
   "metadata": {},
   "source": [
    "# 1. Business Understanding\n",
    " \n",
    "Students are expected to identify a classification problem of your choice. You have to detail the Business Understanding part of your problem under this heading which basically addresses the following questions.\n",
    " \n",
    "   1. What is the problem that you are trying to solve?\n",
    "   2. What data do you need to answer the above problem?\n"
   ]
  },
  {
   "cell_type": "markdown",
   "id": "93d22d4a",
   "metadata": {},
   "source": [
    "--------------Type the answers below this line-------------- \n",
    "\n",
    "1. **Problem statement**: \n",
    "\n",
    "* Heart disease is considered as one of the major causes of death throughout the world. It cannot be easily predicted by the medical practitioners as it is a difficult task which demands expertise and higher knowledge for prediction.\n",
    "* A heart attack occurs when an artery supplying your heart with blood and oxygen becomes blocked. A blood clot can form and block your arteries, causing a heart attack.\n",
    "* The Heart Attack Analysis helps to understand the chance of attack occurrence (prediction of heart disease according to input attributes) in persons based on varied health conditions.\n",
    "* In this assignment, the risk factors that causes heart disease is considered and predicted using classification algorithm. \n",
    "* The performance of these data mining techniques is measured by combining the results of predictive accuracy, ROC curve and AUC value using a standard data set as well as a collected data set.\n",
    "\n",
    "\n",
    "#### Objective\n",
    "* To predict whether a patient is at risk for a heart attack. This is a binary outcome. \n",
    "* Positive (+) = 1, patient is at risk \n",
    "* Negative (-) = 0, patient is not at risk\n",
    "\n",
    "2. The dataset, heart.csv is taken from Kaggle. It has been uploaded to canvas.\n",
    "\n",
    "https://www.kaggle.com/datasets/rashikrahmanpritom/heart-attack-analysis-prediction-dataset\n",
    "\n",
    "#### About this dataset\n",
    "\n",
    "* Age : Age of the patient\n",
    "* Sex : Sex of the patient\n",
    "* exang: exercise induced angina (1 = yes; 0 = no)\n",
    "* ca: number of major vessels (0-3)\n",
    "* cp : Chest Pain type chest pain type\n",
    "    * Value 1: typical angina\n",
    "    * Value 2: atypical angina\n",
    "    * Value 3: non-anginal pain\n",
    "    * Value 4: asymptomatic\n",
    "\n",
    "* trtbps : resting blood pressure (in mm Hg)\n",
    "* chol : cholestoral in mg/dl fetched via BMI sensor\n",
    "* fbs : (fasting blood sugar > 120 mg/dl) (1 = true; 0 = false)\n",
    "* rest_ecg : resting electrocardiographic results\n",
    "    * Value 0: normal\n",
    "    * Value 1: having ST-T wave abnormality (T wave inversions and/or ST elevation or depression of > 0.05 mV)\n",
    "    * Value 2: showing probable or definite left ventricular hypertrophy by Estes' criteria\n",
    "\n",
    "* thalach : maximum heart rate achieved\n",
    "* target : 0= less chance of heart attack 1= more chance of heart attack\n",
    "\n"
   ]
  },
  {
   "cell_type": "markdown",
   "id": "d46d7870",
   "metadata": {},
   "source": [
    "# 2. Data Acquisition\n",
    " \n",
    "For the problem identified by you, students have to find the data source themselves from any data source.\n",
    "\n",
    "## 2.1 Download the data directly\n",
    "\n",
    "## 2.2 Code for converting the above downloaded data into a dataframe\n"
   ]
  },
  {
   "cell_type": "code",
   "execution_count": 1,
   "id": "7430c2bd",
   "metadata": {},
   "outputs": [
    {
     "data": {
      "text/plain": [
       "(303, 14)"
      ]
     },
     "execution_count": 1,
     "metadata": {},
     "output_type": "execute_result"
    }
   ],
   "source": [
    "##---------Type the code below this line------------------##\n",
    "import pandas as pd\n",
    "\n",
    "dataset = pd.read_csv(\"heart.csv\")\n",
    "\n",
    "dataset.shape"
   ]
  },
  {
   "cell_type": "code",
   "execution_count": 2,
   "id": "3e385bb7",
   "metadata": {},
   "outputs": [
    {
     "name": "stdout",
     "output_type": "stream",
     "text": [
      "<class 'pandas.core.frame.DataFrame'>\n",
      "RangeIndex: 303 entries, 0 to 302\n",
      "Data columns (total 14 columns):\n",
      " #   Column    Non-Null Count  Dtype  \n",
      "---  ------    --------------  -----  \n",
      " 0   age       303 non-null    int64  \n",
      " 1   sex       303 non-null    int64  \n",
      " 2   cp        303 non-null    int64  \n",
      " 3   trtbps    303 non-null    int64  \n",
      " 4   chol      303 non-null    int64  \n",
      " 5   fbs       303 non-null    int64  \n",
      " 6   restecg   303 non-null    int64  \n",
      " 7   thalachh  303 non-null    int64  \n",
      " 8   exng      303 non-null    int64  \n",
      " 9   oldpeak   303 non-null    float64\n",
      " 10  slp       303 non-null    int64  \n",
      " 11  caa       303 non-null    int64  \n",
      " 12  thall     303 non-null    int64  \n",
      " 13  output    303 non-null    int64  \n",
      "dtypes: float64(1), int64(13)\n",
      "memory usage: 33.3 KB\n"
     ]
    }
   ],
   "source": [
    "##---------Type the code below this line------------------##\n",
    "\n",
    "dataset.info()"
   ]
  },
  {
   "cell_type": "markdown",
   "id": "bc973ef0",
   "metadata": {},
   "source": [
    "## 2.3 Confirm the data has been correctly by displaying the first 5"
   ]
  },
  {
   "cell_type": "code",
   "execution_count": 3,
   "id": "5db05010",
   "metadata": {},
   "outputs": [
    {
     "data": {
      "text/html": [
       "<div>\n",
       "<style scoped>\n",
       "    .dataframe tbody tr th:only-of-type {\n",
       "        vertical-align: middle;\n",
       "    }\n",
       "\n",
       "    .dataframe tbody tr th {\n",
       "        vertical-align: top;\n",
       "    }\n",
       "\n",
       "    .dataframe thead th {\n",
       "        text-align: right;\n",
       "    }\n",
       "</style>\n",
       "<table border=\"1\" class=\"dataframe\">\n",
       "  <thead>\n",
       "    <tr style=\"text-align: right;\">\n",
       "      <th></th>\n",
       "      <th>age</th>\n",
       "      <th>sex</th>\n",
       "      <th>cp</th>\n",
       "      <th>trtbps</th>\n",
       "      <th>chol</th>\n",
       "      <th>fbs</th>\n",
       "      <th>restecg</th>\n",
       "      <th>thalachh</th>\n",
       "      <th>exng</th>\n",
       "      <th>oldpeak</th>\n",
       "      <th>slp</th>\n",
       "      <th>caa</th>\n",
       "      <th>thall</th>\n",
       "      <th>output</th>\n",
       "    </tr>\n",
       "  </thead>\n",
       "  <tbody>\n",
       "    <tr>\n",
       "      <th>0</th>\n",
       "      <td>63</td>\n",
       "      <td>1</td>\n",
       "      <td>3</td>\n",
       "      <td>145</td>\n",
       "      <td>233</td>\n",
       "      <td>1</td>\n",
       "      <td>0</td>\n",
       "      <td>150</td>\n",
       "      <td>0</td>\n",
       "      <td>2.3</td>\n",
       "      <td>0</td>\n",
       "      <td>0</td>\n",
       "      <td>1</td>\n",
       "      <td>1</td>\n",
       "    </tr>\n",
       "    <tr>\n",
       "      <th>1</th>\n",
       "      <td>37</td>\n",
       "      <td>1</td>\n",
       "      <td>2</td>\n",
       "      <td>130</td>\n",
       "      <td>250</td>\n",
       "      <td>0</td>\n",
       "      <td>1</td>\n",
       "      <td>187</td>\n",
       "      <td>0</td>\n",
       "      <td>3.5</td>\n",
       "      <td>0</td>\n",
       "      <td>0</td>\n",
       "      <td>2</td>\n",
       "      <td>1</td>\n",
       "    </tr>\n",
       "    <tr>\n",
       "      <th>2</th>\n",
       "      <td>41</td>\n",
       "      <td>0</td>\n",
       "      <td>1</td>\n",
       "      <td>130</td>\n",
       "      <td>204</td>\n",
       "      <td>0</td>\n",
       "      <td>0</td>\n",
       "      <td>172</td>\n",
       "      <td>0</td>\n",
       "      <td>1.4</td>\n",
       "      <td>2</td>\n",
       "      <td>0</td>\n",
       "      <td>2</td>\n",
       "      <td>1</td>\n",
       "    </tr>\n",
       "    <tr>\n",
       "      <th>3</th>\n",
       "      <td>56</td>\n",
       "      <td>1</td>\n",
       "      <td>1</td>\n",
       "      <td>120</td>\n",
       "      <td>236</td>\n",
       "      <td>0</td>\n",
       "      <td>1</td>\n",
       "      <td>178</td>\n",
       "      <td>0</td>\n",
       "      <td>0.8</td>\n",
       "      <td>2</td>\n",
       "      <td>0</td>\n",
       "      <td>2</td>\n",
       "      <td>1</td>\n",
       "    </tr>\n",
       "    <tr>\n",
       "      <th>4</th>\n",
       "      <td>57</td>\n",
       "      <td>0</td>\n",
       "      <td>0</td>\n",
       "      <td>120</td>\n",
       "      <td>354</td>\n",
       "      <td>0</td>\n",
       "      <td>1</td>\n",
       "      <td>163</td>\n",
       "      <td>1</td>\n",
       "      <td>0.6</td>\n",
       "      <td>2</td>\n",
       "      <td>0</td>\n",
       "      <td>2</td>\n",
       "      <td>1</td>\n",
       "    </tr>\n",
       "  </tbody>\n",
       "</table>\n",
       "</div>"
      ],
      "text/plain": [
       "   age  sex  cp  trtbps  chol  fbs  restecg  thalachh  exng  oldpeak  slp  \\\n",
       "0   63    1   3     145   233    1        0       150     0      2.3    0   \n",
       "1   37    1   2     130   250    0        1       187     0      3.5    0   \n",
       "2   41    0   1     130   204    0        0       172     0      1.4    2   \n",
       "3   56    1   1     120   236    0        1       178     0      0.8    2   \n",
       "4   57    0   0     120   354    0        1       163     1      0.6    2   \n",
       "\n",
       "   caa  thall  output  \n",
       "0    0      1       1  \n",
       "1    0      2       1  \n",
       "2    0      2       1  \n",
       "3    0      2       1  \n",
       "4    0      2       1  "
      ]
     },
     "execution_count": 3,
     "metadata": {},
     "output_type": "execute_result"
    }
   ],
   "source": [
    "##---------Type the code below this line------------------##\n",
    "dataset.head()"
   ]
  },
  {
   "cell_type": "markdown",
   "id": "16ab163f",
   "metadata": {},
   "source": [
    "# 3. Data Preparation"
   ]
  },
  {
   "cell_type": "markdown",
   "id": "f0e4e8b4",
   "metadata": {},
   "source": [
    "## 3.1 Remove null data"
   ]
  },
  {
   "cell_type": "code",
   "execution_count": 4,
   "id": "39cd8925",
   "metadata": {},
   "outputs": [
    {
     "data": {
      "text/plain": [
       "age         0\n",
       "sex         0\n",
       "cp          0\n",
       "trtbps      0\n",
       "chol        0\n",
       "fbs         0\n",
       "restecg     0\n",
       "thalachh    0\n",
       "exng        0\n",
       "oldpeak     0\n",
       "slp         0\n",
       "caa         0\n",
       "thall       0\n",
       "output      0\n",
       "dtype: int64"
      ]
     },
     "execution_count": 4,
     "metadata": {},
     "output_type": "execute_result"
    }
   ],
   "source": [
    "dataset.isnull().sum()"
   ]
  },
  {
   "cell_type": "code",
   "execution_count": 5,
   "id": "3504953c",
   "metadata": {},
   "outputs": [
    {
     "name": "stdout",
     "output_type": "stream",
     "text": [
      "Duplicates (1, 14)\n",
      "Original dataset (303, 14)\n"
     ]
    }
   ],
   "source": [
    "# check for duplicates\n",
    "\n",
    "duplicateRows = dataset[dataset.duplicated(keep = 'last')]\n",
    "print('Duplicates', duplicateRows.shape)\n",
    "print('Original dataset', dataset.shape)"
   ]
  },
  {
   "cell_type": "code",
   "execution_count": 6,
   "id": "f10a609a",
   "metadata": {},
   "outputs": [
    {
     "name": "stdout",
     "output_type": "stream",
     "text": [
      "Modified dataset (302, 14)\n"
     ]
    }
   ],
   "source": [
    "# remove duplicates\n",
    "\n",
    "dataset = dataset.drop_duplicates()\n",
    "print('Modified dataset', dataset.shape)"
   ]
  },
  {
   "cell_type": "markdown",
   "id": "2a9438ae",
   "metadata": {},
   "source": [
    "## 3.2 Encode categorical data"
   ]
  },
  {
   "cell_type": "code",
   "execution_count": null,
   "id": "389eb5bd",
   "metadata": {},
   "outputs": [],
   "source": []
  },
  {
   "cell_type": "markdown",
   "id": "eb55ff70",
   "metadata": {},
   "source": [
    "## 3.3 Feature Engg "
   ]
  },
  {
   "cell_type": "code",
   "execution_count": 7,
   "id": "3df265d8",
   "metadata": {},
   "outputs": [
    {
     "name": "stdout",
     "output_type": "stream",
     "text": [
      "Categorical features of our dataset:\n",
      " ['sex', 'cp', 'fbs', 'restecg', 'exng', 'slp', 'caa', 'thall', 'output']\n",
      "\n",
      "Numerical features of our dataset:\n",
      " ['age', 'trtbps', 'chol', 'thalachh', 'oldpeak']\n"
     ]
    }
   ],
   "source": [
    "dataset = dataset.copy()\n",
    "\n",
    "categorical_col =[cols for cols in dataset.columns if dataset[cols].nunique() < 10]\n",
    "print(\"Categorical features of our dataset:\\n\",categorical_col)\n",
    "print()\n",
    "\n",
    "numeric_col =[cols for cols in dataset.columns if dataset[cols].nunique() > 10]\n",
    "print(\"Numerical features of our dataset:\\n\",numeric_col)"
   ]
  },
  {
   "cell_type": "code",
   "execution_count": 8,
   "id": "0df770aa",
   "metadata": {},
   "outputs": [
    {
     "data": {
      "text/html": [
       "<div>\n",
       "<style scoped>\n",
       "    .dataframe tbody tr th:only-of-type {\n",
       "        vertical-align: middle;\n",
       "    }\n",
       "\n",
       "    .dataframe tbody tr th {\n",
       "        vertical-align: top;\n",
       "    }\n",
       "\n",
       "    .dataframe thead th {\n",
       "        text-align: right;\n",
       "    }\n",
       "</style>\n",
       "<table border=\"1\" class=\"dataframe\">\n",
       "  <thead>\n",
       "    <tr style=\"text-align: right;\">\n",
       "      <th></th>\n",
       "      <th>sex</th>\n",
       "      <th>cp</th>\n",
       "      <th>fbs</th>\n",
       "      <th>restecg</th>\n",
       "      <th>exng</th>\n",
       "      <th>slp</th>\n",
       "      <th>caa</th>\n",
       "      <th>thall</th>\n",
       "      <th>output</th>\n",
       "    </tr>\n",
       "  </thead>\n",
       "  <tbody>\n",
       "    <tr>\n",
       "      <th>0</th>\n",
       "      <td>1</td>\n",
       "      <td>3</td>\n",
       "      <td>1</td>\n",
       "      <td>0</td>\n",
       "      <td>0</td>\n",
       "      <td>0</td>\n",
       "      <td>0</td>\n",
       "      <td>1</td>\n",
       "      <td>1</td>\n",
       "    </tr>\n",
       "    <tr>\n",
       "      <th>1</th>\n",
       "      <td>1</td>\n",
       "      <td>2</td>\n",
       "      <td>0</td>\n",
       "      <td>1</td>\n",
       "      <td>0</td>\n",
       "      <td>0</td>\n",
       "      <td>0</td>\n",
       "      <td>2</td>\n",
       "      <td>1</td>\n",
       "    </tr>\n",
       "    <tr>\n",
       "      <th>2</th>\n",
       "      <td>0</td>\n",
       "      <td>1</td>\n",
       "      <td>0</td>\n",
       "      <td>0</td>\n",
       "      <td>0</td>\n",
       "      <td>2</td>\n",
       "      <td>0</td>\n",
       "      <td>2</td>\n",
       "      <td>1</td>\n",
       "    </tr>\n",
       "    <tr>\n",
       "      <th>3</th>\n",
       "      <td>1</td>\n",
       "      <td>1</td>\n",
       "      <td>0</td>\n",
       "      <td>1</td>\n",
       "      <td>0</td>\n",
       "      <td>2</td>\n",
       "      <td>0</td>\n",
       "      <td>2</td>\n",
       "      <td>1</td>\n",
       "    </tr>\n",
       "    <tr>\n",
       "      <th>4</th>\n",
       "      <td>0</td>\n",
       "      <td>0</td>\n",
       "      <td>0</td>\n",
       "      <td>1</td>\n",
       "      <td>1</td>\n",
       "      <td>2</td>\n",
       "      <td>0</td>\n",
       "      <td>2</td>\n",
       "      <td>1</td>\n",
       "    </tr>\n",
       "  </tbody>\n",
       "</table>\n",
       "</div>"
      ],
      "text/plain": [
       "   sex  cp  fbs  restecg  exng  slp  caa  thall  output\n",
       "0    1   3    1        0     0    0    0      1       1\n",
       "1    1   2    0        1     0    0    0      2       1\n",
       "2    0   1    0        0     0    2    0      2       1\n",
       "3    1   1    0        1     0    2    0      2       1\n",
       "4    0   0    0        1     1    2    0      2       1"
      ]
     },
     "execution_count": 8,
     "metadata": {},
     "output_type": "execute_result"
    }
   ],
   "source": [
    "cat_features = categorical_col\n",
    "cat_df = dataset.loc[:, cat_features]\n",
    "cat_df.head()"
   ]
  },
  {
   "cell_type": "code",
   "execution_count": 9,
   "id": "0f00a0b0",
   "metadata": {},
   "outputs": [
    {
     "data": {
      "text/html": [
       "<div>\n",
       "<style scoped>\n",
       "    .dataframe tbody tr th:only-of-type {\n",
       "        vertical-align: middle;\n",
       "    }\n",
       "\n",
       "    .dataframe tbody tr th {\n",
       "        vertical-align: top;\n",
       "    }\n",
       "\n",
       "    .dataframe thead th {\n",
       "        text-align: right;\n",
       "    }\n",
       "</style>\n",
       "<table border=\"1\" class=\"dataframe\">\n",
       "  <thead>\n",
       "    <tr style=\"text-align: right;\">\n",
       "      <th></th>\n",
       "      <th>age</th>\n",
       "      <th>trtbps</th>\n",
       "      <th>chol</th>\n",
       "      <th>thalachh</th>\n",
       "      <th>oldpeak</th>\n",
       "    </tr>\n",
       "  </thead>\n",
       "  <tbody>\n",
       "    <tr>\n",
       "      <th>0</th>\n",
       "      <td>63</td>\n",
       "      <td>145</td>\n",
       "      <td>233</td>\n",
       "      <td>150</td>\n",
       "      <td>2.3</td>\n",
       "    </tr>\n",
       "    <tr>\n",
       "      <th>1</th>\n",
       "      <td>37</td>\n",
       "      <td>130</td>\n",
       "      <td>250</td>\n",
       "      <td>187</td>\n",
       "      <td>3.5</td>\n",
       "    </tr>\n",
       "    <tr>\n",
       "      <th>2</th>\n",
       "      <td>41</td>\n",
       "      <td>130</td>\n",
       "      <td>204</td>\n",
       "      <td>172</td>\n",
       "      <td>1.4</td>\n",
       "    </tr>\n",
       "    <tr>\n",
       "      <th>3</th>\n",
       "      <td>56</td>\n",
       "      <td>120</td>\n",
       "      <td>236</td>\n",
       "      <td>178</td>\n",
       "      <td>0.8</td>\n",
       "    </tr>\n",
       "    <tr>\n",
       "      <th>4</th>\n",
       "      <td>57</td>\n",
       "      <td>120</td>\n",
       "      <td>354</td>\n",
       "      <td>163</td>\n",
       "      <td>0.6</td>\n",
       "    </tr>\n",
       "  </tbody>\n",
       "</table>\n",
       "</div>"
      ],
      "text/plain": [
       "   age  trtbps  chol  thalachh  oldpeak\n",
       "0   63     145   233       150      2.3\n",
       "1   37     130   250       187      3.5\n",
       "2   41     130   204       172      1.4\n",
       "3   56     120   236       178      0.8\n",
       "4   57     120   354       163      0.6"
      ]
     },
     "execution_count": 9,
     "metadata": {},
     "output_type": "execute_result"
    }
   ],
   "source": [
    "num_features = numeric_col\n",
    "num_df = dataset.loc[:, num_features]\n",
    "num_df.head()"
   ]
  },
  {
   "cell_type": "code",
   "execution_count": 10,
   "id": "1cb39d25",
   "metadata": {},
   "outputs": [],
   "source": [
    "from sklearn.preprocessing import MinMaxScaler\n",
    "\n",
    "std_scaler1 = MinMaxScaler()\n",
    "std_scaler2 = MinMaxScaler()\n",
    "std_scaler3 = MinMaxScaler()\n",
    "std_scaler4 = MinMaxScaler()\n",
    "std_scaler5 = MinMaxScaler()\n",
    "\n",
    "dataset['age'] = std_scaler1.fit_transform(dataset['age'].values.reshape(-1, 1))\n",
    "dataset['trtbps'] = std_scaler2.fit_transform(dataset['trtbps'].values.reshape(-1, 1))\n",
    "dataset['chol'] = std_scaler3.fit_transform(dataset['chol'].values.reshape(-1, 1))\n",
    "dataset['thalachh'] = std_scaler4.fit_transform(dataset['thalachh'].values.reshape(-1, 1))\n",
    "dataset['oldpeak'] = std_scaler5.fit_transform(dataset['oldpeak'].values.reshape(-1, 1))"
   ]
  },
  {
   "cell_type": "code",
   "execution_count": 11,
   "id": "a862e7f3",
   "metadata": {},
   "outputs": [
    {
     "data": {
      "text/html": [
       "<div>\n",
       "<style scoped>\n",
       "    .dataframe tbody tr th:only-of-type {\n",
       "        vertical-align: middle;\n",
       "    }\n",
       "\n",
       "    .dataframe tbody tr th {\n",
       "        vertical-align: top;\n",
       "    }\n",
       "\n",
       "    .dataframe thead th {\n",
       "        text-align: right;\n",
       "    }\n",
       "</style>\n",
       "<table border=\"1\" class=\"dataframe\">\n",
       "  <thead>\n",
       "    <tr style=\"text-align: right;\">\n",
       "      <th></th>\n",
       "      <th>age</th>\n",
       "      <th>sex</th>\n",
       "      <th>cp</th>\n",
       "      <th>trtbps</th>\n",
       "      <th>chol</th>\n",
       "      <th>fbs</th>\n",
       "      <th>restecg</th>\n",
       "      <th>thalachh</th>\n",
       "      <th>exng</th>\n",
       "      <th>oldpeak</th>\n",
       "      <th>slp</th>\n",
       "      <th>caa</th>\n",
       "      <th>thall</th>\n",
       "      <th>output</th>\n",
       "    </tr>\n",
       "  </thead>\n",
       "  <tbody>\n",
       "    <tr>\n",
       "      <th>0</th>\n",
       "      <td>0.708333</td>\n",
       "      <td>1</td>\n",
       "      <td>3</td>\n",
       "      <td>0.481132</td>\n",
       "      <td>0.244292</td>\n",
       "      <td>1</td>\n",
       "      <td>0</td>\n",
       "      <td>0.603053</td>\n",
       "      <td>0</td>\n",
       "      <td>0.370968</td>\n",
       "      <td>0</td>\n",
       "      <td>0</td>\n",
       "      <td>1</td>\n",
       "      <td>1</td>\n",
       "    </tr>\n",
       "    <tr>\n",
       "      <th>1</th>\n",
       "      <td>0.166667</td>\n",
       "      <td>1</td>\n",
       "      <td>2</td>\n",
       "      <td>0.339623</td>\n",
       "      <td>0.283105</td>\n",
       "      <td>0</td>\n",
       "      <td>1</td>\n",
       "      <td>0.885496</td>\n",
       "      <td>0</td>\n",
       "      <td>0.564516</td>\n",
       "      <td>0</td>\n",
       "      <td>0</td>\n",
       "      <td>2</td>\n",
       "      <td>1</td>\n",
       "    </tr>\n",
       "    <tr>\n",
       "      <th>2</th>\n",
       "      <td>0.250000</td>\n",
       "      <td>0</td>\n",
       "      <td>1</td>\n",
       "      <td>0.339623</td>\n",
       "      <td>0.178082</td>\n",
       "      <td>0</td>\n",
       "      <td>0</td>\n",
       "      <td>0.770992</td>\n",
       "      <td>0</td>\n",
       "      <td>0.225806</td>\n",
       "      <td>2</td>\n",
       "      <td>0</td>\n",
       "      <td>2</td>\n",
       "      <td>1</td>\n",
       "    </tr>\n",
       "    <tr>\n",
       "      <th>3</th>\n",
       "      <td>0.562500</td>\n",
       "      <td>1</td>\n",
       "      <td>1</td>\n",
       "      <td>0.245283</td>\n",
       "      <td>0.251142</td>\n",
       "      <td>0</td>\n",
       "      <td>1</td>\n",
       "      <td>0.816794</td>\n",
       "      <td>0</td>\n",
       "      <td>0.129032</td>\n",
       "      <td>2</td>\n",
       "      <td>0</td>\n",
       "      <td>2</td>\n",
       "      <td>1</td>\n",
       "    </tr>\n",
       "    <tr>\n",
       "      <th>4</th>\n",
       "      <td>0.583333</td>\n",
       "      <td>0</td>\n",
       "      <td>0</td>\n",
       "      <td>0.245283</td>\n",
       "      <td>0.520548</td>\n",
       "      <td>0</td>\n",
       "      <td>1</td>\n",
       "      <td>0.702290</td>\n",
       "      <td>1</td>\n",
       "      <td>0.096774</td>\n",
       "      <td>2</td>\n",
       "      <td>0</td>\n",
       "      <td>2</td>\n",
       "      <td>1</td>\n",
       "    </tr>\n",
       "  </tbody>\n",
       "</table>\n",
       "</div>"
      ],
      "text/plain": [
       "        age  sex  cp    trtbps      chol  fbs  restecg  thalachh  exng  \\\n",
       "0  0.708333    1   3  0.481132  0.244292    1        0  0.603053     0   \n",
       "1  0.166667    1   2  0.339623  0.283105    0        1  0.885496     0   \n",
       "2  0.250000    0   1  0.339623  0.178082    0        0  0.770992     0   \n",
       "3  0.562500    1   1  0.245283  0.251142    0        1  0.816794     0   \n",
       "4  0.583333    0   0  0.245283  0.520548    0        1  0.702290     1   \n",
       "\n",
       "    oldpeak  slp  caa  thall  output  \n",
       "0  0.370968    0    0      1       1  \n",
       "1  0.564516    0    0      2       1  \n",
       "2  0.225806    2    0      2       1  \n",
       "3  0.129032    2    0      2       1  \n",
       "4  0.096774    2    0      2       1  "
      ]
     },
     "execution_count": 11,
     "metadata": {},
     "output_type": "execute_result"
    }
   ],
   "source": [
    "dataset.head()"
   ]
  },
  {
   "cell_type": "markdown",
   "id": "dd25a388",
   "metadata": {},
   "source": [
    "## 3.4 Identify the target variables.\n"
   ]
  },
  {
   "cell_type": "code",
   "execution_count": 12,
   "id": "084f129c",
   "metadata": {},
   "outputs": [
    {
     "data": {
      "text/html": [
       "<div>\n",
       "<style scoped>\n",
       "    .dataframe tbody tr th:only-of-type {\n",
       "        vertical-align: middle;\n",
       "    }\n",
       "\n",
       "    .dataframe tbody tr th {\n",
       "        vertical-align: top;\n",
       "    }\n",
       "\n",
       "    .dataframe thead th {\n",
       "        text-align: right;\n",
       "    }\n",
       "</style>\n",
       "<table border=\"1\" class=\"dataframe\">\n",
       "  <thead>\n",
       "    <tr style=\"text-align: right;\">\n",
       "      <th></th>\n",
       "      <th>age</th>\n",
       "      <th>sex</th>\n",
       "      <th>cp</th>\n",
       "      <th>trtbps</th>\n",
       "      <th>chol</th>\n",
       "      <th>fbs</th>\n",
       "      <th>restecg</th>\n",
       "      <th>thalachh</th>\n",
       "      <th>exng</th>\n",
       "      <th>oldpeak</th>\n",
       "      <th>slp</th>\n",
       "      <th>caa</th>\n",
       "      <th>thall</th>\n",
       "    </tr>\n",
       "  </thead>\n",
       "  <tbody>\n",
       "    <tr>\n",
       "      <th>0</th>\n",
       "      <td>0.708333</td>\n",
       "      <td>1</td>\n",
       "      <td>3</td>\n",
       "      <td>0.481132</td>\n",
       "      <td>0.244292</td>\n",
       "      <td>1</td>\n",
       "      <td>0</td>\n",
       "      <td>0.603053</td>\n",
       "      <td>0</td>\n",
       "      <td>0.370968</td>\n",
       "      <td>0</td>\n",
       "      <td>0</td>\n",
       "      <td>1</td>\n",
       "    </tr>\n",
       "    <tr>\n",
       "      <th>1</th>\n",
       "      <td>0.166667</td>\n",
       "      <td>1</td>\n",
       "      <td>2</td>\n",
       "      <td>0.339623</td>\n",
       "      <td>0.283105</td>\n",
       "      <td>0</td>\n",
       "      <td>1</td>\n",
       "      <td>0.885496</td>\n",
       "      <td>0</td>\n",
       "      <td>0.564516</td>\n",
       "      <td>0</td>\n",
       "      <td>0</td>\n",
       "      <td>2</td>\n",
       "    </tr>\n",
       "    <tr>\n",
       "      <th>2</th>\n",
       "      <td>0.250000</td>\n",
       "      <td>0</td>\n",
       "      <td>1</td>\n",
       "      <td>0.339623</td>\n",
       "      <td>0.178082</td>\n",
       "      <td>0</td>\n",
       "      <td>0</td>\n",
       "      <td>0.770992</td>\n",
       "      <td>0</td>\n",
       "      <td>0.225806</td>\n",
       "      <td>2</td>\n",
       "      <td>0</td>\n",
       "      <td>2</td>\n",
       "    </tr>\n",
       "    <tr>\n",
       "      <th>3</th>\n",
       "      <td>0.562500</td>\n",
       "      <td>1</td>\n",
       "      <td>1</td>\n",
       "      <td>0.245283</td>\n",
       "      <td>0.251142</td>\n",
       "      <td>0</td>\n",
       "      <td>1</td>\n",
       "      <td>0.816794</td>\n",
       "      <td>0</td>\n",
       "      <td>0.129032</td>\n",
       "      <td>2</td>\n",
       "      <td>0</td>\n",
       "      <td>2</td>\n",
       "    </tr>\n",
       "    <tr>\n",
       "      <th>4</th>\n",
       "      <td>0.583333</td>\n",
       "      <td>0</td>\n",
       "      <td>0</td>\n",
       "      <td>0.245283</td>\n",
       "      <td>0.520548</td>\n",
       "      <td>0</td>\n",
       "      <td>1</td>\n",
       "      <td>0.702290</td>\n",
       "      <td>1</td>\n",
       "      <td>0.096774</td>\n",
       "      <td>2</td>\n",
       "      <td>0</td>\n",
       "      <td>2</td>\n",
       "    </tr>\n",
       "  </tbody>\n",
       "</table>\n",
       "</div>"
      ],
      "text/plain": [
       "        age  sex  cp    trtbps      chol  fbs  restecg  thalachh  exng  \\\n",
       "0  0.708333    1   3  0.481132  0.244292    1        0  0.603053     0   \n",
       "1  0.166667    1   2  0.339623  0.283105    0        1  0.885496     0   \n",
       "2  0.250000    0   1  0.339623  0.178082    0        0  0.770992     0   \n",
       "3  0.562500    1   1  0.245283  0.251142    0        1  0.816794     0   \n",
       "4  0.583333    0   0  0.245283  0.520548    0        1  0.702290     1   \n",
       "\n",
       "    oldpeak  slp  caa  thall  \n",
       "0  0.370968    0    0      1  \n",
       "1  0.564516    0    0      2  \n",
       "2  0.225806    2    0      2  \n",
       "3  0.129032    2    0      2  \n",
       "4  0.096774    2    0      2  "
      ]
     },
     "execution_count": 12,
     "metadata": {},
     "output_type": "execute_result"
    }
   ],
   "source": [
    "y = dataset.output\n",
    "X = dataset.copy()\n",
    "\n",
    "X.drop(['output'],axis=1,inplace=True)\n",
    "X.head()"
   ]
  },
  {
   "cell_type": "code",
   "execution_count": 13,
   "id": "40c5f4a9",
   "metadata": {},
   "outputs": [
    {
     "name": "stdout",
     "output_type": "stream",
     "text": [
      "(302, 13)\n",
      "(302,)\n"
     ]
    }
   ],
   "source": [
    "print(X.shape)\n",
    "print(y.shape)"
   ]
  },
  {
   "cell_type": "markdown",
   "id": "db19d574",
   "metadata": {},
   "source": [
    "## 3.5 Split the data into training set and testing set"
   ]
  },
  {
   "cell_type": "code",
   "execution_count": 14,
   "id": "44a492cf",
   "metadata": {},
   "outputs": [],
   "source": [
    "from sklearn.model_selection import train_test_split\n",
    "\n",
    "X_train, X_test, y_train, y_test = train_test_split(X, y, test_size = 0.2, random_state=1)"
   ]
  },
  {
   "cell_type": "code",
   "execution_count": 15,
   "id": "b9d40d5a",
   "metadata": {},
   "outputs": [
    {
     "name": "stdout",
     "output_type": "stream",
     "text": [
      "(241, 13)\n",
      "(241,)\n",
      "(61, 13)\n",
      "(61,)\n"
     ]
    }
   ],
   "source": [
    "print(X_train.shape)\n",
    "print(y_train.shape)\n",
    "print(X_test.shape)\n",
    "print(y_test.shape)"
   ]
  },
  {
   "cell_type": "markdown",
   "id": "5ac07e17",
   "metadata": {},
   "source": [
    "# 4. Deep Neural Network Architecture"
   ]
  },
  {
   "cell_type": "markdown",
   "id": "5f94fb1d",
   "metadata": {},
   "source": [
    "## 4.1 Design the architecture that you will be using to solve the prediction problem identified.\n",
    "\n",
    "* Add dense layers, specifying the number of units in each layer and the activation function used in the layer."
   ]
  },
  {
   "cell_type": "code",
   "execution_count": 16,
   "id": "555fc714",
   "metadata": {},
   "outputs": [
    {
     "name": "stderr",
     "output_type": "stream",
     "text": [
      "2022-11-27 10:20:20.092764: W tensorflow/stream_executor/platform/default/dso_loader.cc:64] Could not load dynamic library 'libcudart.so.11.0'; dlerror: libcudart.so.11.0: cannot open shared object file: No such file or directory\n",
      "2022-11-27 10:20:20.092791: I tensorflow/stream_executor/cuda/cudart_stub.cc:29] Ignore above cudart dlerror if you do not have a GPU set up on your machine.\n"
     ]
    }
   ],
   "source": [
    "from keras.models import Sequential\n",
    "from keras import layers"
   ]
  },
  {
   "cell_type": "code",
   "execution_count": 17,
   "id": "1b552c20",
   "metadata": {},
   "outputs": [
    {
     "name": "stderr",
     "output_type": "stream",
     "text": [
      "2022-11-27 10:20:21.498643: W tensorflow/stream_executor/platform/default/dso_loader.cc:64] Could not load dynamic library 'libcuda.so.1'; dlerror: libcuda.so.1: cannot open shared object file: No such file or directory\n",
      "2022-11-27 10:20:21.498685: W tensorflow/stream_executor/cuda/cuda_driver.cc:269] failed call to cuInit: UNKNOWN ERROR (303)\n",
      "2022-11-27 10:20:21.498715: I tensorflow/stream_executor/cuda/cuda_diagnostics.cc:156] kernel driver does not appear to be running on this host (seetha-HP-348-G4): /proc/driver/nvidia/version does not exist\n",
      "2022-11-27 10:20:21.499041: I tensorflow/core/platform/cpu_feature_guard.cc:151] This TensorFlow binary is optimized with oneAPI Deep Neural Network Library (oneDNN) to use the following CPU instructions in performance-critical operations:  AVX2 FMA\n",
      "To enable them in other operations, rebuild TensorFlow with the appropriate compiler flags.\n"
     ]
    }
   ],
   "source": [
    "input_dim = X_train.shape[1]  # Number of features\n",
    "\n",
    "model = Sequential()\n",
    "model.add(layers.Dense(16, input_dim=input_dim, activation='relu'))\n",
    "model.add(layers.Dense(8, activation='relu'))\n",
    "model.add(layers.Dense(4, activation='relu'))\n",
    "model.add(layers.Dense(1, activation='sigmoid'))"
   ]
  },
  {
   "cell_type": "code",
   "execution_count": 18,
   "id": "e2bf8b36",
   "metadata": {},
   "outputs": [
    {
     "name": "stdout",
     "output_type": "stream",
     "text": [
      "Model: \"sequential\"\n",
      "_________________________________________________________________\n",
      " Layer (type)                Output Shape              Param #   \n",
      "=================================================================\n",
      " dense (Dense)               (None, 16)                224       \n",
      "                                                                 \n",
      " dense_1 (Dense)             (None, 8)                 136       \n",
      "                                                                 \n",
      " dense_2 (Dense)             (None, 4)                 36        \n",
      "                                                                 \n",
      " dense_3 (Dense)             (None, 1)                 5         \n",
      "                                                                 \n",
      "=================================================================\n",
      "Total params: 401\n",
      "Trainable params: 401\n",
      "Non-trainable params: 0\n",
      "_________________________________________________________________\n"
     ]
    }
   ],
   "source": [
    "model.summary()"
   ]
  },
  {
   "cell_type": "markdown",
   "id": "f3dcad3a",
   "metadata": {},
   "source": [
    "# 5. Training the model\n",
    "\n",
    "## 5.1 Configure the training\n",
    "\n",
    "Configure the model for training, by using appropriate optimizers and regularizations"
   ]
  },
  {
   "cell_type": "code",
   "execution_count": 19,
   "id": "d76cac92",
   "metadata": {},
   "outputs": [],
   "source": [
    "model.compile(loss='binary_crossentropy', \n",
    "              optimizer='adam', \n",
    "              metrics=['accuracy'])\n"
   ]
  },
  {
   "cell_type": "markdown",
   "id": "0056d53a",
   "metadata": {},
   "source": [
    "## 5.2 Train the model"
   ]
  },
  {
   "cell_type": "code",
   "execution_count": 20,
   "id": "85097346",
   "metadata": {},
   "outputs": [
    {
     "name": "stdout",
     "output_type": "stream",
     "text": [
      "Epoch 1/100\n",
      "17/17 [==============================] - 1s 14ms/step - loss: 1.3991 - accuracy: 0.5477 - val_loss: 1.2515 - val_accuracy: 0.5246\n",
      "Epoch 2/100\n",
      "17/17 [==============================] - 0s 4ms/step - loss: 1.0619 - accuracy: 0.5477 - val_loss: 1.0118 - val_accuracy: 0.5246\n",
      "Epoch 3/100\n",
      "17/17 [==============================] - 0s 4ms/step - loss: 0.8936 - accuracy: 0.5477 - val_loss: 0.8733 - val_accuracy: 0.5246\n",
      "Epoch 4/100\n",
      "17/17 [==============================] - 0s 4ms/step - loss: 0.7983 - accuracy: 0.5436 - val_loss: 0.7984 - val_accuracy: 0.5082\n",
      "Epoch 5/100\n",
      "17/17 [==============================] - 0s 3ms/step - loss: 0.7447 - accuracy: 0.5062 - val_loss: 0.7607 - val_accuracy: 0.4918\n",
      "Epoch 6/100\n",
      "17/17 [==============================] - 0s 5ms/step - loss: 0.7045 - accuracy: 0.4979 - val_loss: 0.7195 - val_accuracy: 0.4754\n",
      "Epoch 7/100\n",
      "17/17 [==============================] - 0s 4ms/step - loss: 0.6721 - accuracy: 0.5228 - val_loss: 0.6855 - val_accuracy: 0.5410\n",
      "Epoch 8/100\n",
      "17/17 [==============================] - 0s 4ms/step - loss: 0.6466 - accuracy: 0.6017 - val_loss: 0.6621 - val_accuracy: 0.6393\n",
      "Epoch 9/100\n",
      "17/17 [==============================] - 0s 5ms/step - loss: 0.6333 - accuracy: 0.6722 - val_loss: 0.6500 - val_accuracy: 0.6721\n",
      "Epoch 10/100\n",
      "17/17 [==============================] - 0s 5ms/step - loss: 0.6247 - accuracy: 0.7303 - val_loss: 0.6424 - val_accuracy: 0.6557\n",
      "Epoch 11/100\n",
      "17/17 [==============================] - 0s 6ms/step - loss: 0.6194 - accuracy: 0.7303 - val_loss: 0.6378 - val_accuracy: 0.6721\n",
      "Epoch 12/100\n",
      "17/17 [==============================] - 0s 6ms/step - loss: 0.6143 - accuracy: 0.7303 - val_loss: 0.6349 - val_accuracy: 0.6557\n",
      "Epoch 13/100\n",
      "17/17 [==============================] - 0s 5ms/step - loss: 0.6107 - accuracy: 0.7137 - val_loss: 0.6351 - val_accuracy: 0.6885\n",
      "Epoch 14/100\n",
      "17/17 [==============================] - 0s 5ms/step - loss: 0.6035 - accuracy: 0.7178 - val_loss: 0.6307 - val_accuracy: 0.6885\n",
      "Epoch 15/100\n",
      "17/17 [==============================] - 0s 5ms/step - loss: 0.5968 - accuracy: 0.7676 - val_loss: 0.6254 - val_accuracy: 0.7049\n",
      "Epoch 16/100\n",
      "17/17 [==============================] - 0s 5ms/step - loss: 0.5914 - accuracy: 0.7718 - val_loss: 0.6192 - val_accuracy: 0.7213\n",
      "Epoch 17/100\n",
      "17/17 [==============================] - 0s 7ms/step - loss: 0.5842 - accuracy: 0.7801 - val_loss: 0.6138 - val_accuracy: 0.7213\n",
      "Epoch 18/100\n",
      "17/17 [==============================] - 0s 4ms/step - loss: 0.5784 - accuracy: 0.7884 - val_loss: 0.6064 - val_accuracy: 0.7377\n",
      "Epoch 19/100\n",
      "17/17 [==============================] - 0s 4ms/step - loss: 0.5728 - accuracy: 0.7884 - val_loss: 0.5988 - val_accuracy: 0.7213\n",
      "Epoch 20/100\n",
      "17/17 [==============================] - 0s 4ms/step - loss: 0.5664 - accuracy: 0.7925 - val_loss: 0.5915 - val_accuracy: 0.7213\n",
      "Epoch 21/100\n",
      "17/17 [==============================] - 0s 3ms/step - loss: 0.5628 - accuracy: 0.8091 - val_loss: 0.5852 - val_accuracy: 0.7377\n",
      "Epoch 22/100\n",
      "17/17 [==============================] - 0s 4ms/step - loss: 0.5592 - accuracy: 0.8133 - val_loss: 0.5800 - val_accuracy: 0.7541\n",
      "Epoch 23/100\n",
      "17/17 [==============================] - 0s 4ms/step - loss: 0.5563 - accuracy: 0.8133 - val_loss: 0.5798 - val_accuracy: 0.7541\n",
      "Epoch 24/100\n",
      "17/17 [==============================] - 0s 6ms/step - loss: 0.5499 - accuracy: 0.8174 - val_loss: 0.5739 - val_accuracy: 0.7377\n",
      "Epoch 25/100\n",
      "17/17 [==============================] - 0s 4ms/step - loss: 0.5458 - accuracy: 0.8133 - val_loss: 0.5684 - val_accuracy: 0.7377\n",
      "Epoch 26/100\n",
      "17/17 [==============================] - 0s 4ms/step - loss: 0.5427 - accuracy: 0.8174 - val_loss: 0.5649 - val_accuracy: 0.7377\n",
      "Epoch 27/100\n",
      "17/17 [==============================] - 0s 4ms/step - loss: 0.5381 - accuracy: 0.8174 - val_loss: 0.5599 - val_accuracy: 0.7377\n",
      "Epoch 28/100\n",
      "17/17 [==============================] - 0s 4ms/step - loss: 0.5341 - accuracy: 0.8216 - val_loss: 0.5568 - val_accuracy: 0.7377\n",
      "Epoch 29/100\n",
      "17/17 [==============================] - 0s 4ms/step - loss: 0.5321 - accuracy: 0.8133 - val_loss: 0.5490 - val_accuracy: 0.7541\n",
      "Epoch 30/100\n",
      "17/17 [==============================] - 0s 4ms/step - loss: 0.5257 - accuracy: 0.8133 - val_loss: 0.5491 - val_accuracy: 0.7869\n",
      "Epoch 31/100\n",
      "17/17 [==============================] - 0s 5ms/step - loss: 0.5233 - accuracy: 0.8050 - val_loss: 0.5470 - val_accuracy: 0.7869\n",
      "Epoch 32/100\n",
      "17/17 [==============================] - 0s 5ms/step - loss: 0.5200 - accuracy: 0.8174 - val_loss: 0.5418 - val_accuracy: 0.7869\n",
      "Epoch 33/100\n",
      "17/17 [==============================] - 0s 5ms/step - loss: 0.5169 - accuracy: 0.8050 - val_loss: 0.5448 - val_accuracy: 0.7705\n",
      "Epoch 34/100\n",
      "17/17 [==============================] - 0s 3ms/step - loss: 0.5117 - accuracy: 0.8091 - val_loss: 0.5351 - val_accuracy: 0.7869\n",
      "Epoch 35/100\n",
      "17/17 [==============================] - 0s 3ms/step - loss: 0.5075 - accuracy: 0.8340 - val_loss: 0.5275 - val_accuracy: 0.8033\n",
      "Epoch 36/100\n",
      "17/17 [==============================] - 0s 3ms/step - loss: 0.5042 - accuracy: 0.8299 - val_loss: 0.5256 - val_accuracy: 0.7705\n",
      "Epoch 37/100\n",
      "17/17 [==============================] - 0s 3ms/step - loss: 0.4997 - accuracy: 0.8299 - val_loss: 0.5200 - val_accuracy: 0.8033\n",
      "Epoch 38/100\n",
      "17/17 [==============================] - 0s 3ms/step - loss: 0.4977 - accuracy: 0.8216 - val_loss: 0.5141 - val_accuracy: 0.8197\n",
      "Epoch 39/100\n",
      "17/17 [==============================] - 0s 3ms/step - loss: 0.4942 - accuracy: 0.8340 - val_loss: 0.5101 - val_accuracy: 0.8197\n",
      "Epoch 40/100\n",
      "17/17 [==============================] - 0s 3ms/step - loss: 0.4913 - accuracy: 0.8340 - val_loss: 0.5060 - val_accuracy: 0.8033\n",
      "Epoch 41/100\n",
      "17/17 [==============================] - 0s 3ms/step - loss: 0.4880 - accuracy: 0.8423 - val_loss: 0.5028 - val_accuracy: 0.8197\n",
      "Epoch 42/100\n",
      "17/17 [==============================] - 0s 3ms/step - loss: 0.4869 - accuracy: 0.8382 - val_loss: 0.4997 - val_accuracy: 0.8033\n",
      "Epoch 43/100\n",
      "17/17 [==============================] - 0s 3ms/step - loss: 0.4838 - accuracy: 0.8299 - val_loss: 0.5014 - val_accuracy: 0.8197\n",
      "Epoch 44/100\n",
      "17/17 [==============================] - 0s 3ms/step - loss: 0.4813 - accuracy: 0.8340 - val_loss: 0.5062 - val_accuracy: 0.8033\n",
      "Epoch 45/100\n",
      "17/17 [==============================] - 0s 3ms/step - loss: 0.4778 - accuracy: 0.8382 - val_loss: 0.4995 - val_accuracy: 0.8197\n",
      "Epoch 46/100\n",
      "17/17 [==============================] - 0s 3ms/step - loss: 0.4752 - accuracy: 0.8340 - val_loss: 0.4960 - val_accuracy: 0.8033\n",
      "Epoch 47/100\n",
      "17/17 [==============================] - 0s 3ms/step - loss: 0.4724 - accuracy: 0.8382 - val_loss: 0.4918 - val_accuracy: 0.8197\n",
      "Epoch 48/100\n",
      "17/17 [==============================] - 0s 3ms/step - loss: 0.4694 - accuracy: 0.8423 - val_loss: 0.4937 - val_accuracy: 0.7869\n",
      "Epoch 49/100\n",
      "17/17 [==============================] - 0s 3ms/step - loss: 0.4675 - accuracy: 0.8506 - val_loss: 0.4900 - val_accuracy: 0.7869\n",
      "Epoch 50/100\n",
      "17/17 [==============================] - 0s 3ms/step - loss: 0.4685 - accuracy: 0.8506 - val_loss: 0.4814 - val_accuracy: 0.8197\n",
      "Epoch 51/100\n",
      "17/17 [==============================] - 0s 3ms/step - loss: 0.4629 - accuracy: 0.8382 - val_loss: 0.4902 - val_accuracy: 0.7869\n",
      "Epoch 52/100\n",
      "17/17 [==============================] - 0s 3ms/step - loss: 0.4597 - accuracy: 0.8465 - val_loss: 0.4811 - val_accuracy: 0.7869\n",
      "Epoch 53/100\n",
      "17/17 [==============================] - 0s 3ms/step - loss: 0.4559 - accuracy: 0.8506 - val_loss: 0.4754 - val_accuracy: 0.8361\n",
      "Epoch 54/100\n",
      "17/17 [==============================] - 0s 3ms/step - loss: 0.4544 - accuracy: 0.8589 - val_loss: 0.4688 - val_accuracy: 0.8361\n",
      "Epoch 55/100\n",
      "17/17 [==============================] - 0s 3ms/step - loss: 0.4515 - accuracy: 0.8548 - val_loss: 0.4780 - val_accuracy: 0.8033\n",
      "Epoch 56/100\n",
      "17/17 [==============================] - 0s 3ms/step - loss: 0.4515 - accuracy: 0.8506 - val_loss: 0.4772 - val_accuracy: 0.7869\n",
      "Epoch 57/100\n",
      "17/17 [==============================] - 0s 3ms/step - loss: 0.4500 - accuracy: 0.8589 - val_loss: 0.4720 - val_accuracy: 0.8197\n",
      "Epoch 58/100\n",
      "17/17 [==============================] - 0s 3ms/step - loss: 0.4457 - accuracy: 0.8631 - val_loss: 0.4668 - val_accuracy: 0.8361\n"
     ]
    },
    {
     "name": "stdout",
     "output_type": "stream",
     "text": [
      "Epoch 59/100\n",
      "17/17 [==============================] - 0s 3ms/step - loss: 0.4438 - accuracy: 0.8672 - val_loss: 0.4644 - val_accuracy: 0.8361\n",
      "Epoch 60/100\n",
      "17/17 [==============================] - 0s 3ms/step - loss: 0.4419 - accuracy: 0.8631 - val_loss: 0.4652 - val_accuracy: 0.8197\n",
      "Epoch 61/100\n",
      "17/17 [==============================] - 0s 3ms/step - loss: 0.4397 - accuracy: 0.8589 - val_loss: 0.4671 - val_accuracy: 0.8033\n",
      "Epoch 62/100\n",
      "17/17 [==============================] - 0s 3ms/step - loss: 0.4390 - accuracy: 0.8589 - val_loss: 0.4663 - val_accuracy: 0.8033\n",
      "Epoch 63/100\n",
      "17/17 [==============================] - 0s 3ms/step - loss: 0.4360 - accuracy: 0.8589 - val_loss: 0.4651 - val_accuracy: 0.8197\n",
      "Epoch 64/100\n",
      "17/17 [==============================] - 0s 3ms/step - loss: 0.4339 - accuracy: 0.8631 - val_loss: 0.4587 - val_accuracy: 0.8361\n",
      "Epoch 65/100\n",
      "17/17 [==============================] - 0s 3ms/step - loss: 0.4337 - accuracy: 0.8631 - val_loss: 0.4607 - val_accuracy: 0.8197\n",
      "Epoch 66/100\n",
      "17/17 [==============================] - 0s 3ms/step - loss: 0.4337 - accuracy: 0.8506 - val_loss: 0.4648 - val_accuracy: 0.8197\n",
      "Epoch 67/100\n",
      "17/17 [==============================] - 0s 3ms/step - loss: 0.4280 - accuracy: 0.8672 - val_loss: 0.4565 - val_accuracy: 0.8361\n",
      "Epoch 68/100\n",
      "17/17 [==============================] - 0s 3ms/step - loss: 0.4277 - accuracy: 0.8548 - val_loss: 0.4677 - val_accuracy: 0.8033\n",
      "Epoch 69/100\n",
      "17/17 [==============================] - 0s 3ms/step - loss: 0.4263 - accuracy: 0.8506 - val_loss: 0.4644 - val_accuracy: 0.8197\n",
      "Epoch 70/100\n",
      "17/17 [==============================] - 0s 9ms/step - loss: 0.4239 - accuracy: 0.8548 - val_loss: 0.4628 - val_accuracy: 0.8033\n",
      "Epoch 71/100\n",
      "17/17 [==============================] - 0s 8ms/step - loss: 0.4248 - accuracy: 0.8548 - val_loss: 0.4646 - val_accuracy: 0.8033\n",
      "Epoch 72/100\n",
      "17/17 [==============================] - 0s 7ms/step - loss: 0.4222 - accuracy: 0.8589 - val_loss: 0.4651 - val_accuracy: 0.8033\n",
      "Epoch 73/100\n",
      "17/17 [==============================] - 0s 5ms/step - loss: 0.4224 - accuracy: 0.8631 - val_loss: 0.4591 - val_accuracy: 0.8033\n",
      "Epoch 74/100\n",
      "17/17 [==============================] - 0s 4ms/step - loss: 0.4185 - accuracy: 0.8714 - val_loss: 0.4498 - val_accuracy: 0.8197\n",
      "Epoch 75/100\n",
      "17/17 [==============================] - 0s 4ms/step - loss: 0.4160 - accuracy: 0.8672 - val_loss: 0.4552 - val_accuracy: 0.8033\n",
      "Epoch 76/100\n",
      "17/17 [==============================] - 0s 4ms/step - loss: 0.4162 - accuracy: 0.8672 - val_loss: 0.4564 - val_accuracy: 0.8033\n",
      "Epoch 77/100\n",
      "17/17 [==============================] - 0s 4ms/step - loss: 0.4135 - accuracy: 0.8672 - val_loss: 0.4562 - val_accuracy: 0.8033\n",
      "Epoch 78/100\n",
      "17/17 [==============================] - 0s 4ms/step - loss: 0.4128 - accuracy: 0.8755 - val_loss: 0.4406 - val_accuracy: 0.8197\n",
      "Epoch 79/100\n",
      "17/17 [==============================] - 0s 4ms/step - loss: 0.4113 - accuracy: 0.8755 - val_loss: 0.4481 - val_accuracy: 0.8033\n",
      "Epoch 80/100\n",
      "17/17 [==============================] - 0s 4ms/step - loss: 0.4094 - accuracy: 0.8672 - val_loss: 0.4696 - val_accuracy: 0.7869\n",
      "Epoch 81/100\n",
      "17/17 [==============================] - 0s 4ms/step - loss: 0.4111 - accuracy: 0.8548 - val_loss: 0.4498 - val_accuracy: 0.8033\n",
      "Epoch 82/100\n",
      "17/17 [==============================] - 0s 4ms/step - loss: 0.4105 - accuracy: 0.8672 - val_loss: 0.4512 - val_accuracy: 0.8033\n",
      "Epoch 83/100\n",
      "17/17 [==============================] - 0s 4ms/step - loss: 0.4066 - accuracy: 0.8714 - val_loss: 0.4385 - val_accuracy: 0.8033\n",
      "Epoch 84/100\n",
      "17/17 [==============================] - 0s 4ms/step - loss: 0.4035 - accuracy: 0.8631 - val_loss: 0.4504 - val_accuracy: 0.8033\n",
      "Epoch 85/100\n",
      "17/17 [==============================] - 0s 5ms/step - loss: 0.4032 - accuracy: 0.8589 - val_loss: 0.4444 - val_accuracy: 0.8033\n",
      "Epoch 86/100\n",
      "17/17 [==============================] - 0s 6ms/step - loss: 0.3997 - accuracy: 0.8672 - val_loss: 0.4466 - val_accuracy: 0.8033\n",
      "Epoch 87/100\n",
      "17/17 [==============================] - 0s 5ms/step - loss: 0.4001 - accuracy: 0.8631 - val_loss: 0.4467 - val_accuracy: 0.8033\n",
      "Epoch 88/100\n",
      "17/17 [==============================] - 0s 5ms/step - loss: 0.3977 - accuracy: 0.8714 - val_loss: 0.4365 - val_accuracy: 0.8033\n",
      "Epoch 89/100\n",
      "17/17 [==============================] - 0s 6ms/step - loss: 0.4080 - accuracy: 0.8672 - val_loss: 0.4399 - val_accuracy: 0.8361\n",
      "Epoch 90/100\n",
      "17/17 [==============================] - 0s 9ms/step - loss: 0.3998 - accuracy: 0.8880 - val_loss: 0.4468 - val_accuracy: 0.7869\n",
      "Epoch 91/100\n",
      "17/17 [==============================] - 0s 9ms/step - loss: 0.3966 - accuracy: 0.8589 - val_loss: 0.4529 - val_accuracy: 0.8033\n",
      "Epoch 92/100\n",
      "17/17 [==============================] - 0s 7ms/step - loss: 0.3942 - accuracy: 0.8631 - val_loss: 0.4501 - val_accuracy: 0.8033\n",
      "Epoch 93/100\n",
      "17/17 [==============================] - 0s 5ms/step - loss: 0.3964 - accuracy: 0.8714 - val_loss: 0.4402 - val_accuracy: 0.7869\n",
      "Epoch 94/100\n",
      "17/17 [==============================] - 0s 5ms/step - loss: 0.3935 - accuracy: 0.8589 - val_loss: 0.4528 - val_accuracy: 0.7869\n",
      "Epoch 95/100\n",
      "17/17 [==============================] - 0s 5ms/step - loss: 0.3955 - accuracy: 0.8672 - val_loss: 0.4387 - val_accuracy: 0.8197\n",
      "Epoch 96/100\n",
      "17/17 [==============================] - 0s 4ms/step - loss: 0.3898 - accuracy: 0.8755 - val_loss: 0.4457 - val_accuracy: 0.7869\n",
      "Epoch 97/100\n",
      "17/17 [==============================] - 0s 4ms/step - loss: 0.3907 - accuracy: 0.8631 - val_loss: 0.4491 - val_accuracy: 0.8033\n",
      "Epoch 98/100\n",
      "17/17 [==============================] - 0s 4ms/step - loss: 0.3869 - accuracy: 0.8672 - val_loss: 0.4411 - val_accuracy: 0.8033\n",
      "Epoch 99/100\n",
      "17/17 [==============================] - 0s 4ms/step - loss: 0.3847 - accuracy: 0.8755 - val_loss: 0.4433 - val_accuracy: 0.8033\n",
      "Epoch 100/100\n",
      "17/17 [==============================] - 0s 4ms/step - loss: 0.3866 - accuracy: 0.8631 - val_loss: 0.4587 - val_accuracy: 0.7869\n"
     ]
    }
   ],
   "source": [
    "classifier_nn = model.fit(X_train,y_train,\n",
    "                    epochs=100,\n",
    "                    verbose=True,\n",
    "                    validation_data=(X_test, y_test),\n",
    "                    batch_size=15)"
   ]
  },
  {
   "cell_type": "markdown",
   "id": "6859bc2e",
   "metadata": {},
   "source": [
    "# 6. Test the model"
   ]
  },
  {
   "cell_type": "code",
   "execution_count": 21,
   "id": "4fe71bdb",
   "metadata": {},
   "outputs": [],
   "source": [
    "# Predict Labels\n",
    "testLoss, testAccuracy = model.evaluate(X_test, y_test, verbose=0)\n",
    "\n",
    "# Predict Labels\n",
    "Ypredicted = model.predict(X_test)\n",
    "\n",
    "for i in range(len(Ypredicted)):\n",
    "    if Ypredicted[i]>0.5:\n",
    "        Ypredicted[i]=1\n",
    "    elif Ypredicted[i]<=0.5:\n",
    "        Ypredicted[i]=0"
   ]
  },
  {
   "cell_type": "markdown",
   "id": "38109a96",
   "metadata": {},
   "source": [
    "## 7.  Conclusion \n",
    "\n",
    "Plot the training and validation loss\n",
    "Report the testing accuracy and loss.\n",
    "\n",
    "Report values for preformance study metrics like accuracy, precision, recall, F1 Score.\n",
    "\n",
    "A proper comparision based on different metrics should be done and not just accuracy alone, only then the comparision becomes authentic. You may use Confusion matrix, classification report, MAE etc per the requirement of your application/problem."
   ]
  },
  {
   "cell_type": "markdown",
   "id": "04ff993a",
   "metadata": {},
   "source": [
    "--------------Type the answers below this line--------------"
   ]
  },
  {
   "cell_type": "code",
   "execution_count": 22,
   "id": "9bcdeaca",
   "metadata": {},
   "outputs": [
    {
     "data": {
      "image/png": "[encoded data removed]",
      "text/plain": [
       "<Figure size 432x288 with 1 Axes>"
      ]
     },
     "metadata": {
      "needs_background": "light"
     },
     "output_type": "display_data"
    }
   ],
   "source": [
    "# summarize history for loss\n",
    "\n",
    "import matplotlib.pyplot as plt\n",
    "\n",
    "plt.plot(classifier_nn.history['loss'])\n",
    "plt.plot(classifier_nn.history['val_loss'])\n",
    "plt.title('model loss')\n",
    "plt.ylabel('loss')\n",
    "plt.xlabel('epoch')\n",
    "plt.legend(['train', 'test'], loc='upper left')\n",
    "plt.show()"
   ]
  },
  {
   "cell_type": "code",
   "execution_count": 23,
   "id": "52420a66",
   "metadata": {},
   "outputs": [
    {
     "name": "stdout",
     "output_type": "stream",
     "text": [
      "Confustion matrix = \n",
      " [[19 10]\n",
      " [ 3 29]]\n",
      "Classfication report = \n",
      "               precision    recall  f1-score   support\n",
      "\n",
      "     Class 0       0.86      0.66      0.75        29\n",
      "     Class 1       0.74      0.91      0.82        32\n",
      "\n",
      "    accuracy                           0.79        61\n",
      "   macro avg       0.80      0.78      0.78        61\n",
      "weighted avg       0.80      0.79      0.78        61\n",
      "\n"
     ]
    }
   ],
   "source": [
    "from sklearn.metrics import classification_report\n",
    "from sklearn.metrics import confusion_matrix\n",
    "\n",
    "\n",
    "num_classes = 2\n",
    "\n",
    "#traget names\n",
    "target_names = [\"Class {}\".format(i) for i in range(num_classes)]\n",
    "\n",
    "\n",
    "# confusion matrix\n",
    "confusion_mtx = confusion_matrix(y_test, Ypredicted)\n",
    "print('Confustion matrix = \\n',confusion_mtx)\n",
    "\n",
    "# Classification Report    \n",
    "print('Classfication report = \\n', classification_report(y_test, \n",
    "        Ypredicted, target_names=target_names))"
   ]
  },
  {
   "cell_type": "markdown",
   "id": "b016ff6b",
   "metadata": {},
   "source": [
    "# 8. Solution\n",
    "\n",
    "What is the solution that is proposed to solve the business problem discussed in Section 1. Also share your learnings while working through solving the problem in terms of challenges, observations, decisions made etc.\n",
    "\n"
   ]
  },
  {
   "cell_type": "raw",
   "id": "864ae8e5",
   "metadata": {},
   "source": [
    "##---------Type the answers below this line------------------##"
   ]
  }
 ],
 "metadata": {
  "kernelspec": {
   "display_name": "Python 3 (ipykernel)",
   "language": "python",
   "name": "python3"
  },
  "language_info": {
   "codemirror_mode": {
    "name": "ipython",
    "version": 3
   },
   "file_extension": ".py",
   "mimetype": "text/x-python",
   "name": "python",
   "nbconvert_exporter": "python",
   "pygments_lexer": "ipython3",
   "version": "3.9.13"
  }
 },
 "nbformat": 4,
 "nbformat_minor": 5
}
